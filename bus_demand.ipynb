{
 "cells": [
  {
   "cell_type": "markdown",
   "id": "ba69f6cd",
   "metadata": {},
   "source": [
    "# Forecasting Bus Demand in Banana Republic Municipalities\n",
    "### Prepared by: Said Bolluk\n",
    "### E-Mail: said.bolluk@ozu.edu.tr"
   ]
  },
  {
   "cell_type": "code",
   "execution_count": 1,
   "id": "a7283079",
   "metadata": {},
   "outputs": [],
   "source": [
    "import numpy as np\n",
    "import pandas as pd\n",
    "import matplotlib.pyplot as plt\n",
    "%matplotlib inline"
   ]
  },
  {
   "cell_type": "code",
   "execution_count": 2,
   "id": "adc34dd2",
   "metadata": {},
   "outputs": [],
   "source": [
    "# Display model diagram\n",
    "from sklearn import set_config\n",
    "set_config(display='diagram')"
   ]
  },
  {
   "cell_type": "markdown",
   "id": "442b4001",
   "metadata": {},
   "source": [
    "# 1) Data Preprocessing"
   ]
  },
  {
   "cell_type": "code",
   "execution_count": 3,
   "id": "d4e0976e",
   "metadata": {},
   "outputs": [
    {
     "data": {
      "text/html": [
       "<div>\n",
       "<style scoped>\n",
       "    .dataframe tbody tr th:only-of-type {\n",
       "        vertical-align: middle;\n",
       "    }\n",
       "\n",
       "    .dataframe tbody tr th {\n",
       "        vertical-align: top;\n",
       "    }\n",
       "\n",
       "    .dataframe thead th {\n",
       "        text-align: right;\n",
       "    }\n",
       "</style>\n",
       "<table border=\"1\" class=\"dataframe\">\n",
       "  <thead>\n",
       "    <tr style=\"text-align: right;\">\n",
       "      <th></th>\n",
       "      <th>timestamp</th>\n",
       "      <th>municipality_id</th>\n",
       "      <th>usage</th>\n",
       "      <th>total_capacity</th>\n",
       "    </tr>\n",
       "  </thead>\n",
       "  <tbody>\n",
       "    <tr>\n",
       "      <th>0</th>\n",
       "      <td>2017-06-04 07:59:42</td>\n",
       "      <td>9</td>\n",
       "      <td>454</td>\n",
       "      <td>1332</td>\n",
       "    </tr>\n",
       "    <tr>\n",
       "      <th>1</th>\n",
       "      <td>2017-06-04 07:59:42</td>\n",
       "      <td>8</td>\n",
       "      <td>556</td>\n",
       "      <td>2947</td>\n",
       "    </tr>\n",
       "    <tr>\n",
       "      <th>2</th>\n",
       "      <td>2017-06-04 07:59:42</td>\n",
       "      <td>4</td>\n",
       "      <td>1090</td>\n",
       "      <td>3893</td>\n",
       "    </tr>\n",
       "    <tr>\n",
       "      <th>3</th>\n",
       "      <td>2017-06-04 07:59:42</td>\n",
       "      <td>0</td>\n",
       "      <td>204</td>\n",
       "      <td>2813</td>\n",
       "    </tr>\n",
       "    <tr>\n",
       "      <th>4</th>\n",
       "      <td>2017-06-04 07:59:42</td>\n",
       "      <td>7</td>\n",
       "      <td>718</td>\n",
       "      <td>2019</td>\n",
       "    </tr>\n",
       "  </tbody>\n",
       "</table>\n",
       "</div>"
      ],
      "text/plain": [
       "             timestamp  municipality_id  usage  total_capacity\n",
       "0  2017-06-04 07:59:42                9    454            1332\n",
       "1  2017-06-04 07:59:42                8    556            2947\n",
       "2  2017-06-04 07:59:42                4   1090            3893\n",
       "3  2017-06-04 07:59:42                0    204            2813\n",
       "4  2017-06-04 07:59:42                7    718            2019"
      ]
     },
     "execution_count": 3,
     "metadata": {},
     "output_type": "execute_result"
    }
   ],
   "source": [
    "mydf = pd.read_csv(\"municipality_bus_utilization.csv\")\n",
    "mydf.head()"
   ]
  },
  {
   "cell_type": "markdown",
   "id": "e8ddf150",
   "metadata": {},
   "source": [
    "Transform the \"timestamp\" column into a datatime object:"
   ]
  },
  {
   "cell_type": "code",
   "execution_count": 4,
   "id": "732e97ae",
   "metadata": {},
   "outputs": [],
   "source": [
    "mydf[\"timestamp\"] = pd.to_datetime(mydf[\"timestamp\"])"
   ]
  },
  {
   "cell_type": "code",
   "execution_count": 5,
   "id": "ad3d827b",
   "metadata": {},
   "outputs": [
    {
     "name": "stdout",
     "output_type": "stream",
     "text": [
      "<class 'pandas.core.frame.DataFrame'>\n",
      "RangeIndex: 13070 entries, 0 to 13069\n",
      "Data columns (total 4 columns):\n",
      " #   Column           Non-Null Count  Dtype         \n",
      "---  ------           --------------  -----         \n",
      " 0   timestamp        13070 non-null  datetime64[ns]\n",
      " 1   municipality_id  13070 non-null  int64         \n",
      " 2   usage            13070 non-null  int64         \n",
      " 3   total_capacity   13070 non-null  int64         \n",
      "dtypes: datetime64[ns](1), int64(3)\n",
      "memory usage: 408.6 KB\n"
     ]
    }
   ],
   "source": [
    "mydf.info()"
   ]
  },
  {
   "cell_type": "markdown",
   "id": "679ee37a",
   "metadata": {},
   "source": [
    "Select and save the hour, day, and month info for tHe future calculations:"
   ]
  },
  {
   "cell_type": "code",
   "execution_count": 6,
   "id": "75740132",
   "metadata": {},
   "outputs": [],
   "source": [
    "mydf[\"time_hour\"] = mydf.timestamp.apply(lambda x: x.hour)\n",
    "mydf[\"time_day\"] = mydf.timestamp.apply(lambda x: x.day)\n",
    "mydf[\"time_month\"] = mydf.timestamp.apply(lambda x: x.month)"
   ]
  },
  {
   "cell_type": "code",
   "execution_count": 7,
   "id": "7934ce03",
   "metadata": {},
   "outputs": [
    {
     "data": {
      "text/html": [
       "<div>\n",
       "<style scoped>\n",
       "    .dataframe tbody tr th:only-of-type {\n",
       "        vertical-align: middle;\n",
       "    }\n",
       "\n",
       "    .dataframe tbody tr th {\n",
       "        vertical-align: top;\n",
       "    }\n",
       "\n",
       "    .dataframe thead th {\n",
       "        text-align: right;\n",
       "    }\n",
       "</style>\n",
       "<table border=\"1\" class=\"dataframe\">\n",
       "  <thead>\n",
       "    <tr style=\"text-align: right;\">\n",
       "      <th></th>\n",
       "      <th>timestamp</th>\n",
       "      <th>municipality_id</th>\n",
       "      <th>usage</th>\n",
       "      <th>total_capacity</th>\n",
       "      <th>time_hour</th>\n",
       "      <th>time_day</th>\n",
       "      <th>time_month</th>\n",
       "    </tr>\n",
       "  </thead>\n",
       "  <tbody>\n",
       "    <tr>\n",
       "      <th>0</th>\n",
       "      <td>2017-06-04 07:59:42</td>\n",
       "      <td>9</td>\n",
       "      <td>454</td>\n",
       "      <td>1332</td>\n",
       "      <td>7</td>\n",
       "      <td>4</td>\n",
       "      <td>6</td>\n",
       "    </tr>\n",
       "    <tr>\n",
       "      <th>1</th>\n",
       "      <td>2017-06-04 07:59:42</td>\n",
       "      <td>8</td>\n",
       "      <td>556</td>\n",
       "      <td>2947</td>\n",
       "      <td>7</td>\n",
       "      <td>4</td>\n",
       "      <td>6</td>\n",
       "    </tr>\n",
       "    <tr>\n",
       "      <th>2</th>\n",
       "      <td>2017-06-04 07:59:42</td>\n",
       "      <td>4</td>\n",
       "      <td>1090</td>\n",
       "      <td>3893</td>\n",
       "      <td>7</td>\n",
       "      <td>4</td>\n",
       "      <td>6</td>\n",
       "    </tr>\n",
       "    <tr>\n",
       "      <th>3</th>\n",
       "      <td>2017-06-04 07:59:42</td>\n",
       "      <td>0</td>\n",
       "      <td>204</td>\n",
       "      <td>2813</td>\n",
       "      <td>7</td>\n",
       "      <td>4</td>\n",
       "      <td>6</td>\n",
       "    </tr>\n",
       "    <tr>\n",
       "      <th>4</th>\n",
       "      <td>2017-06-04 07:59:42</td>\n",
       "      <td>7</td>\n",
       "      <td>718</td>\n",
       "      <td>2019</td>\n",
       "      <td>7</td>\n",
       "      <td>4</td>\n",
       "      <td>6</td>\n",
       "    </tr>\n",
       "  </tbody>\n",
       "</table>\n",
       "</div>"
      ],
      "text/plain": [
       "            timestamp  municipality_id  usage  total_capacity  time_hour  \\\n",
       "0 2017-06-04 07:59:42                9    454            1332          7   \n",
       "1 2017-06-04 07:59:42                8    556            2947          7   \n",
       "2 2017-06-04 07:59:42                4   1090            3893          7   \n",
       "3 2017-06-04 07:59:42                0    204            2813          7   \n",
       "4 2017-06-04 07:59:42                7    718            2019          7   \n",
       "\n",
       "   time_day  time_month  \n",
       "0         4           6  \n",
       "1         4           6  \n",
       "2         4           6  \n",
       "3         4           6  \n",
       "4         4           6  "
      ]
     },
     "execution_count": 7,
     "metadata": {},
     "output_type": "execute_result"
    }
   ],
   "source": [
    "mydf.head()"
   ]
  },
  {
   "cell_type": "markdown",
   "id": "7d803562",
   "metadata": {},
   "source": [
    "Dataset contains a single or couple of recordings for each hour. Therefore, I will take the mean of these recordings for each hour."
   ]
  },
  {
   "cell_type": "code",
   "execution_count": 8,
   "id": "808a7a55",
   "metadata": {
    "scrolled": false
   },
   "outputs": [],
   "source": [
    "municipalities = list(range(0, 10))\n",
    "months = [6, 7, 8]\n",
    "\n",
    "empty_frame = pd.DataFrame()\n",
    "\n",
    "for i in municipalities:\n",
    "    \n",
    "    data_muni = mydf[mydf[\"municipality_id\"]==i]\n",
    "    \n",
    "    for j in months:\n",
    "        \n",
    "        data_month = data_muni[data_muni[\"time_month\"]==j]\n",
    "        \n",
    "        day_list = np.sort(data_month[\"time_day\"].value_counts().index.to_list())\n",
    "\n",
    "        for k in day_list:\n",
    "            \n",
    "            data_day = data_month[data_month[\"time_day\"]==k]\n",
    "            \n",
    "            # Group usage per hour by averaging out the recordings in the same hour\n",
    "            aggregate = data_day.groupby(by=\"time_hour\")[\"usage\"].mean().round(2)\n",
    "            \n",
    "            # Define a new data frame to keep recordings per hour\n",
    "            frame = {\n",
    "                \"Municipality\": i,\n",
    "                \"Month\": j,\n",
    "                \"Day\": k,\n",
    "                \"Hour\": aggregate.index, \n",
    "                \"Average Usage\": aggregate.values,\n",
    "            }            \n",
    "            reduced_data = pd.DataFrame(frame)\n",
    "            empty_frame = empty_frame.append(reduced_data, ignore_index=True)"
   ]
  },
  {
   "cell_type": "markdown",
   "id": "ba1a7989",
   "metadata": {},
   "source": [
    "Create a copy of the empty_frame:"
   ]
  },
  {
   "cell_type": "code",
   "execution_count": 9,
   "id": "2310a610",
   "metadata": {},
   "outputs": [],
   "source": [
    "bus_demand = empty_frame.copy()"
   ]
  },
  {
   "cell_type": "markdown",
   "id": "6e025984",
   "metadata": {},
   "source": [
    "## Missing Data Imputation"
   ]
  },
  {
   "cell_type": "markdown",
   "id": "e6ccf697",
   "metadata": {},
   "source": [
    "Note that recordings are kept between the same dates in each municipality. Let us examine the missing days for each month:"
   ]
  },
  {
   "cell_type": "code",
   "execution_count": 10,
   "id": "48bd850d",
   "metadata": {},
   "outputs": [
    {
     "name": "stdout",
     "output_type": "stream",
     "text": [
      "Month-6: [ 4  5  6  7  8  9 10 11 12 13 14 15 16 17 18 19 22 23 24 25 26 27 28 29\n",
      " 30]\n",
      "Total Day: 25\n",
      "\n",
      "Month-7: [ 1  2  3  4  5  6  7  8  9 10 11 12 13 14 15 16 17 18 19 20 21 22 23 24\n",
      " 25 26 27 28 29 30]\n",
      "Total Day: 55\n",
      "\n",
      "Month-8: [ 1  2  5  6  7  8  9 10 11 12 13 14 15 16 17 18 19]\n",
      "Total Day: 72\n",
      "\n"
     ]
    }
   ],
   "source": [
    "months = [6, 7, 8]\n",
    "total_day = 0\n",
    "\n",
    "for i in months:\n",
    "    \n",
    "    day_list = np.sort(empty_frame[empty_frame[\"Month\"]==i][\"Day\"].value_counts().index.to_list())\n",
    "    total_day += len(day_list)\n",
    "    \n",
    "    print(f\"Month-{i}: {day_list}\")\n",
    "    print(f\"Total Day: {total_day}\\n\")"
   ]
  },
  {
   "cell_type": "markdown",
   "id": "e5567d54",
   "metadata": {},
   "source": [
    "There are two missing days (20, 21) for the Month 6, and two missing days (3, 4) for the Month 8. The Month 7 does not contain any missing days. Lut us create a row for with the average use per hour and complete the missing days of each month:"
   ]
  },
  {
   "cell_type": "code",
   "execution_count": 11,
   "id": "e0b65e46",
   "metadata": {
    "scrolled": false
   },
   "outputs": [],
   "source": [
    "municipalities = list(range(0, 10))\n",
    "missing_months = [6, 8]\n",
    "\n",
    "missing_frame = pd.DataFrame()\n",
    "\n",
    "for i in municipalities:\n",
    "    \n",
    "    data_muni = bus_demand[bus_demand[\"Municipality\"]==i]\n",
    "    \n",
    "    for j in missing_months:\n",
    "        \n",
    "        if j==6:\n",
    "            missing_days = [20, 21]\n",
    "        \n",
    "        elif j==8:\n",
    "            missing_days = [3, 4]\n",
    "        \n",
    "        else:\n",
    "            print(\"ERROR!\")\n",
    "            \n",
    "        for k in missing_days:\n",
    "            \n",
    "            grouping = data_muni.groupby(by=\"Hour\")[\"Average Usage\"].mean()\n",
    "            #print(i, j, k, grouping)\n",
    "            frame = {\n",
    "                \"Municipality\": i,\n",
    "                \"Month\": j,\n",
    "                \"Day\": k,\n",
    "                \"Hour\": grouping.index, \n",
    "                \"Average Usage\": grouping.values,\n",
    "            }            \n",
    "            missing_data = pd.DataFrame(frame)\n",
    "            missing_frame = missing_frame.append(missing_data, ignore_index=True)\n",
    "            \n",
    "final_df = pd.concat([bus_demand, missing_frame], axis=0, ignore_index=True)"
   ]
  },
  {
   "cell_type": "code",
   "execution_count": 12,
   "id": "f07665be",
   "metadata": {},
   "outputs": [
    {
     "name": "stdout",
     "output_type": "stream",
     "text": [
      "Missing: (6740, 5)\n",
      "Completed: (7140, 5)\n"
     ]
    }
   ],
   "source": [
    "print(\"Missing:\", bus_demand.shape)\n",
    "print(\"Completed:\", final_df.shape)"
   ]
  },
  {
   "cell_type": "markdown",
   "id": "224647c4",
   "metadata": {},
   "source": [
    "Check if there are any missing days:"
   ]
  },
  {
   "cell_type": "code",
   "execution_count": 13,
   "id": "1bcc106b",
   "metadata": {},
   "outputs": [
    {
     "name": "stdout",
     "output_type": "stream",
     "text": [
      "Month-6: [ 4  5  6  7  8  9 10 11 12 13 14 15 16 17 18 19 20 21 22 23 24 25 26 27\n",
      " 28 29 30]\n",
      "Month-7: [ 1  2  3  4  5  6  7  8  9 10 11 12 13 14 15 16 17 18 19 20 21 22 23 24\n",
      " 25 26 27 28 29 30]\n",
      "Month-8: [ 1  2  3  4  5  6  7  8  9 10 11 12 13 14 15 16 17 18 19]\n"
     ]
    }
   ],
   "source": [
    "months = [6, 7, 8]\n",
    "\n",
    "for i in months:\n",
    "    \n",
    "    day_list = np.sort(final_df[final_df[\"Month\"]==i][\"Day\"].value_counts().index.to_list())\n",
    "    \n",
    "    print(f\"Month-{i}: {day_list}\")"
   ]
  },
  {
   "cell_type": "markdown",
   "id": "9abddc2f",
   "metadata": {},
   "source": [
    "Sort intances by Municipality, Month, Day, and Hour. Reset the index."
   ]
  },
  {
   "cell_type": "code",
   "execution_count": 14,
   "id": "fe827c77",
   "metadata": {},
   "outputs": [],
   "source": [
    "final_df = final_df.sort_values(by=[\"Municipality\", \"Month\", \"Day\", \"Hour\"], ascending = [True, True, True, True])\n",
    "final_df = final_df.reset_index()\n",
    "final_df = final_df.drop(columns=\"index\")"
   ]
  },
  {
   "cell_type": "markdown",
   "id": "e4985085",
   "metadata": {},
   "source": [
    "## Feature Extraction"
   ]
  },
  {
   "cell_type": "markdown",
   "id": "1d01d549",
   "metadata": {},
   "source": [
    "### Density"
   ]
  },
  {
   "cell_type": "markdown",
   "id": "01223746",
   "metadata": {},
   "source": [
    "Insert total capacity info and create a density column: Average Usage/Total Capacity"
   ]
  },
  {
   "cell_type": "code",
   "execution_count": 15,
   "id": "64a4b915",
   "metadata": {},
   "outputs": [],
   "source": [
    "muni_id = mydf.groupby(by=\"municipality_id\")[\"total_capacity\"].mean().index.tolist()\n",
    "capacity_list = mydf.groupby(by=\"municipality_id\")[\"total_capacity\"].mean().values.tolist()\n",
    "\n",
    "for i in range(final_df.shape[0]):\n",
    "\n",
    "    municipality = final_df.loc[i, \"Municipality\"]\n",
    "    \n",
    "    for j in range(0, 10):\n",
    "        \n",
    "        if municipality == muni_id[j]:\n",
    "            final_df.loc[i, \"Density\"] = final_df.loc[i, \"Average Usage\"] / capacity_list[j]\n",
    "            \n",
    "        else:\n",
    "            pass"
   ]
  },
  {
   "cell_type": "markdown",
   "id": "4578558e",
   "metadata": {},
   "source": [
    "### Date"
   ]
  },
  {
   "cell_type": "markdown",
   "id": "20c9e1cd",
   "metadata": {},
   "source": [
    "Combine the date features and present as: Month/Day/Hour"
   ]
  },
  {
   "cell_type": "code",
   "execution_count": 16,
   "id": "0cafeab4",
   "metadata": {},
   "outputs": [],
   "source": [
    "for i in range(final_df.shape[0]):\n",
    "    \n",
    "    m, d, h = final_df.loc[i, \"Month\"], final_df.loc[i, \"Day\"], final_df.loc[i, \"Hour\"]\n",
    "    final_df.loc[i, \"Date\"] = f\"{m}/{d}/{h}\""
   ]
  },
  {
   "cell_type": "markdown",
   "id": "d0a1c810",
   "metadata": {},
   "source": [
    "### 50 Hour Moving Average"
   ]
  },
  {
   "cell_type": "markdown",
   "id": "06b176c5",
   "metadata": {},
   "source": [
    "Combine each hour of recordings into a single column named **Cumulative Hours**. This will help us calculate the 50 hour moving average of usage for each recording."
   ]
  },
  {
   "cell_type": "code",
   "execution_count": 17,
   "id": "cdbaa075",
   "metadata": {},
   "outputs": [],
   "source": [
    "initial_id = 0\n",
    "count = 0\n",
    "\n",
    "for i in range(final_df.shape[0]):\n",
    "    \n",
    "    new_id = final_df.loc[i, \"Municipality\"]\n",
    "    \n",
    "    if new_id == initial_id:\n",
    "        count += 1\n",
    "        final_df.loc[i, \"Cumulative Hours\"] = count\n",
    "        \n",
    "    else:\n",
    "        count = 1\n",
    "        final_df.loc[i, \"Cumulative Hours\"] = count\n",
    "        \n",
    "    initial_id = new_id"
   ]
  },
  {
   "cell_type": "markdown",
   "id": "e1d14157",
   "metadata": {},
   "source": [
    "Calculate 50 Day Moving Average for each recording using the Cumulative Hours column:"
   ]
  },
  {
   "cell_type": "code",
   "execution_count": 18,
   "id": "50fc124f",
   "metadata": {},
   "outputs": [],
   "source": [
    "municipalities = list(range(0, 10))\n",
    "\n",
    "average_frame = pd.DataFrame()\n",
    "average_list = list()\n",
    "\n",
    "for i in municipalities:\n",
    "    \n",
    "    filtered = final_df[final_df[\"Municipality\"]==i].reset_index()\n",
    "    \n",
    "    for j in range(filtered.shape[0]):\n",
    "        \n",
    "        if j < 50:\n",
    "            \n",
    "            mean = np.mean(filtered.loc[j:0:-1, \"Average Usage\"].values)\n",
    "            average_list.append(mean)\n",
    "            \n",
    "        else:\n",
    "            mean = np.mean(filtered.loc[j:j-50:-1, \"Average Usage\"].values)\n",
    "            average_list.append(mean)\n",
    "\n",
    "# Create a new column called \"50 Hour Moving Average\" with the average list          \n",
    "final_df[\"50 Hour Moving Average\"] = average_list"
   ]
  },
  {
   "cell_type": "markdown",
   "id": "9231ef50",
   "metadata": {},
   "source": [
    "We will sort the final_df according to the month and day columns since the added rows disturbed the order of the original frame. We will then save the dataset to a new CSV file so we can use it quickly in the future:"
   ]
  },
  {
   "cell_type": "code",
   "execution_count": 19,
   "id": "58faa5a6",
   "metadata": {},
   "outputs": [],
   "source": [
    "# Sort values\n",
    "final_df = final_df.sort_values(by=[\"Municipality\", \"Month\", \"Day\", \"Hour\"], ascending = [True, True, True, True])\n",
    "\n",
    "# Re-order columns and round values\n",
    "final_df = final_df[['Date', 'Month', 'Day', 'Hour', 'Municipality','Average Usage', 'Density', 'Cumulative Hours', '50 Hour Moving Average']].round(2)\n",
    "\n",
    "# Save the dataset\n",
    "final_df.to_csv(\"ready_data.csv\", index=False)"
   ]
  },
  {
   "cell_type": "code",
   "execution_count": 20,
   "id": "678cad53",
   "metadata": {},
   "outputs": [
    {
     "data": {
      "text/html": [
       "<div>\n",
       "<style scoped>\n",
       "    .dataframe tbody tr th:only-of-type {\n",
       "        vertical-align: middle;\n",
       "    }\n",
       "\n",
       "    .dataframe tbody tr th {\n",
       "        vertical-align: top;\n",
       "    }\n",
       "\n",
       "    .dataframe thead th {\n",
       "        text-align: right;\n",
       "    }\n",
       "</style>\n",
       "<table border=\"1\" class=\"dataframe\">\n",
       "  <thead>\n",
       "    <tr style=\"text-align: right;\">\n",
       "      <th></th>\n",
       "      <th>Date</th>\n",
       "      <th>Month</th>\n",
       "      <th>Day</th>\n",
       "      <th>Hour</th>\n",
       "      <th>Municipality</th>\n",
       "      <th>Average Usage</th>\n",
       "      <th>Density</th>\n",
       "      <th>Cumulative Hours</th>\n",
       "      <th>50 Hour Moving Average</th>\n",
       "    </tr>\n",
       "  </thead>\n",
       "  <tbody>\n",
       "    <tr>\n",
       "      <th>2670</th>\n",
       "      <td>7/30/12</td>\n",
       "      <td>7</td>\n",
       "      <td>30</td>\n",
       "      <td>12</td>\n",
       "      <td>3</td>\n",
       "      <td>1576.0</td>\n",
       "      <td>0.82</td>\n",
       "      <td>529.0</td>\n",
       "      <td>1154.76</td>\n",
       "    </tr>\n",
       "    <tr>\n",
       "      <th>798</th>\n",
       "      <td>6/12/16</td>\n",
       "      <td>6</td>\n",
       "      <td>12</td>\n",
       "      <td>16</td>\n",
       "      <td>1</td>\n",
       "      <td>282.0</td>\n",
       "      <td>0.71</td>\n",
       "      <td>85.0</td>\n",
       "      <td>267.13</td>\n",
       "    </tr>\n",
       "    <tr>\n",
       "      <th>3709</th>\n",
       "      <td>6/18/16</td>\n",
       "      <td>6</td>\n",
       "      <td>18</td>\n",
       "      <td>16</td>\n",
       "      <td>5</td>\n",
       "      <td>133.0</td>\n",
       "      <td>0.23</td>\n",
       "      <td>140.0</td>\n",
       "      <td>173.89</td>\n",
       "    </tr>\n",
       "    <tr>\n",
       "      <th>1663</th>\n",
       "      <td>6/28/15</td>\n",
       "      <td>6</td>\n",
       "      <td>28</td>\n",
       "      <td>15</td>\n",
       "      <td>2</td>\n",
       "      <td>575.5</td>\n",
       "      <td>0.83</td>\n",
       "      <td>236.0</td>\n",
       "      <td>500.82</td>\n",
       "    </tr>\n",
       "    <tr>\n",
       "      <th>6047</th>\n",
       "      <td>7/9/12</td>\n",
       "      <td>7</td>\n",
       "      <td>9</td>\n",
       "      <td>12</td>\n",
       "      <td>8</td>\n",
       "      <td>1197.5</td>\n",
       "      <td>0.41</td>\n",
       "      <td>336.0</td>\n",
       "      <td>921.73</td>\n",
       "    </tr>\n",
       "    <tr>\n",
       "      <th>4799</th>\n",
       "      <td>7/29/8</td>\n",
       "      <td>7</td>\n",
       "      <td>29</td>\n",
       "      <td>8</td>\n",
       "      <td>6</td>\n",
       "      <td>625.0</td>\n",
       "      <td>0.20</td>\n",
       "      <td>516.0</td>\n",
       "      <td>966.98</td>\n",
       "    </tr>\n",
       "    <tr>\n",
       "      <th>3519</th>\n",
       "      <td>8/14/14</td>\n",
       "      <td>8</td>\n",
       "      <td>14</td>\n",
       "      <td>14</td>\n",
       "      <td>4</td>\n",
       "      <td>3270.0</td>\n",
       "      <td>0.84</td>\n",
       "      <td>664.0</td>\n",
       "      <td>2392.66</td>\n",
       "    </tr>\n",
       "    <tr>\n",
       "      <th>676</th>\n",
       "      <td>8/16/7</td>\n",
       "      <td>8</td>\n",
       "      <td>16</td>\n",
       "      <td>7</td>\n",
       "      <td>0</td>\n",
       "      <td>227.0</td>\n",
       "      <td>0.08</td>\n",
       "      <td>677.0</td>\n",
       "      <td>544.33</td>\n",
       "    </tr>\n",
       "    <tr>\n",
       "      <th>717</th>\n",
       "      <td>6/4/10</td>\n",
       "      <td>6</td>\n",
       "      <td>4</td>\n",
       "      <td>10</td>\n",
       "      <td>1</td>\n",
       "      <td>295.0</td>\n",
       "      <td>0.74</td>\n",
       "      <td>4.0</td>\n",
       "      <td>201.00</td>\n",
       "    </tr>\n",
       "    <tr>\n",
       "      <th>4323</th>\n",
       "      <td>6/8/7</td>\n",
       "      <td>6</td>\n",
       "      <td>8</td>\n",
       "      <td>7</td>\n",
       "      <td>6</td>\n",
       "      <td>637.0</td>\n",
       "      <td>0.20</td>\n",
       "      <td>40.0</td>\n",
       "      <td>1051.47</td>\n",
       "    </tr>\n",
       "  </tbody>\n",
       "</table>\n",
       "</div>"
      ],
      "text/plain": [
       "         Date  Month  Day  Hour  Municipality  Average Usage  Density  \\\n",
       "2670  7/30/12      7   30    12             3         1576.0     0.82   \n",
       "798   6/12/16      6   12    16             1          282.0     0.71   \n",
       "3709  6/18/16      6   18    16             5          133.0     0.23   \n",
       "1663  6/28/15      6   28    15             2          575.5     0.83   \n",
       "6047   7/9/12      7    9    12             8         1197.5     0.41   \n",
       "4799   7/29/8      7   29     8             6          625.0     0.20   \n",
       "3519  8/14/14      8   14    14             4         3270.0     0.84   \n",
       "676    8/16/7      8   16     7             0          227.0     0.08   \n",
       "717    6/4/10      6    4    10             1          295.0     0.74   \n",
       "4323    6/8/7      6    8     7             6          637.0     0.20   \n",
       "\n",
       "      Cumulative Hours  50 Hour Moving Average  \n",
       "2670             529.0                 1154.76  \n",
       "798               85.0                  267.13  \n",
       "3709             140.0                  173.89  \n",
       "1663             236.0                  500.82  \n",
       "6047             336.0                  921.73  \n",
       "4799             516.0                  966.98  \n",
       "3519             664.0                 2392.66  \n",
       "676              677.0                  544.33  \n",
       "717                4.0                  201.00  \n",
       "4323              40.0                 1051.47  "
      ]
     },
     "execution_count": 20,
     "metadata": {},
     "output_type": "execute_result"
    }
   ],
   "source": [
    "final_df.sample(10)"
   ]
  },
  {
   "cell_type": "markdown",
   "id": "ed0f3f2f",
   "metadata": {},
   "source": [
    "Observe the correlation between the target and features using the Pearson correlation method:"
   ]
  },
  {
   "cell_type": "code",
   "execution_count": 21,
   "id": "5503e1f3",
   "metadata": {},
   "outputs": [
    {
     "data": {
      "text/plain": [
       "Month                     0.073803\n",
       "Day                      -0.164146\n",
       "Hour                      0.560073\n",
       "Municipality                   NaN\n",
       "Average Usage             1.000000\n",
       "Density                   0.999858\n",
       "Cumulative Hours          0.024547\n",
       "50 Hour Moving Average    0.191819\n",
       "Name: Average Usage, dtype: float64"
      ]
     },
     "execution_count": 21,
     "metadata": {},
     "output_type": "execute_result"
    }
   ],
   "source": [
    "final_df[final_df[\"Municipality\"]==2].corr(method=\"pearson\")[\"Average Usage\"]"
   ]
  },
  {
   "cell_type": "markdown",
   "id": "420ec31b",
   "metadata": {},
   "source": [
    "# 2) Model Training"
   ]
  },
  {
   "cell_type": "code",
   "execution_count": 22,
   "id": "42a59fb5",
   "metadata": {},
   "outputs": [],
   "source": [
    "data = pd.read_csv(\"ready_data.csv\")"
   ]
  },
  {
   "cell_type": "code",
   "execution_count": 23,
   "id": "7bafa4e2",
   "metadata": {},
   "outputs": [
    {
     "data": {
      "text/html": [
       "<div>\n",
       "<style scoped>\n",
       "    .dataframe tbody tr th:only-of-type {\n",
       "        vertical-align: middle;\n",
       "    }\n",
       "\n",
       "    .dataframe tbody tr th {\n",
       "        vertical-align: top;\n",
       "    }\n",
       "\n",
       "    .dataframe thead th {\n",
       "        text-align: right;\n",
       "    }\n",
       "</style>\n",
       "<table border=\"1\" class=\"dataframe\">\n",
       "  <thead>\n",
       "    <tr style=\"text-align: right;\">\n",
       "      <th></th>\n",
       "      <th>Date</th>\n",
       "      <th>Month</th>\n",
       "      <th>Day</th>\n",
       "      <th>Hour</th>\n",
       "      <th>Municipality</th>\n",
       "      <th>Average Usage</th>\n",
       "      <th>Density</th>\n",
       "      <th>Cumulative Hours</th>\n",
       "      <th>50 Hour Moving Average</th>\n",
       "    </tr>\n",
       "  </thead>\n",
       "  <tbody>\n",
       "    <tr>\n",
       "      <th>0</th>\n",
       "      <td>6/4/7</td>\n",
       "      <td>6</td>\n",
       "      <td>4</td>\n",
       "      <td>7</td>\n",
       "      <td>0</td>\n",
       "      <td>204.0</td>\n",
       "      <td>0.07</td>\n",
       "      <td>1.0</td>\n",
       "      <td>204.00</td>\n",
       "    </tr>\n",
       "    <tr>\n",
       "      <th>1</th>\n",
       "      <td>6/4/8</td>\n",
       "      <td>6</td>\n",
       "      <td>4</td>\n",
       "      <td>8</td>\n",
       "      <td>0</td>\n",
       "      <td>289.5</td>\n",
       "      <td>0.10</td>\n",
       "      <td>2.0</td>\n",
       "      <td>246.75</td>\n",
       "    </tr>\n",
       "    <tr>\n",
       "      <th>2</th>\n",
       "      <td>6/4/9</td>\n",
       "      <td>6</td>\n",
       "      <td>4</td>\n",
       "      <td>9</td>\n",
       "      <td>0</td>\n",
       "      <td>457.0</td>\n",
       "      <td>0.16</td>\n",
       "      <td>3.0</td>\n",
       "      <td>316.83</td>\n",
       "    </tr>\n",
       "    <tr>\n",
       "      <th>3</th>\n",
       "      <td>6/4/10</td>\n",
       "      <td>6</td>\n",
       "      <td>4</td>\n",
       "      <td>10</td>\n",
       "      <td>0</td>\n",
       "      <td>558.5</td>\n",
       "      <td>0.20</td>\n",
       "      <td>4.0</td>\n",
       "      <td>377.25</td>\n",
       "    </tr>\n",
       "    <tr>\n",
       "      <th>4</th>\n",
       "      <td>6/4/11</td>\n",
       "      <td>6</td>\n",
       "      <td>4</td>\n",
       "      <td>11</td>\n",
       "      <td>0</td>\n",
       "      <td>605.5</td>\n",
       "      <td>0.22</td>\n",
       "      <td>5.0</td>\n",
       "      <td>422.90</td>\n",
       "    </tr>\n",
       "  </tbody>\n",
       "</table>\n",
       "</div>"
      ],
      "text/plain": [
       "     Date  Month  Day  Hour  Municipality  Average Usage  Density  \\\n",
       "0   6/4/7      6    4     7             0          204.0     0.07   \n",
       "1   6/4/8      6    4     8             0          289.5     0.10   \n",
       "2   6/4/9      6    4     9             0          457.0     0.16   \n",
       "3  6/4/10      6    4    10             0          558.5     0.20   \n",
       "4  6/4/11      6    4    11             0          605.5     0.22   \n",
       "\n",
       "   Cumulative Hours  50 Hour Moving Average  \n",
       "0               1.0                  204.00  \n",
       "1               2.0                  246.75  \n",
       "2               3.0                  316.83  \n",
       "3               4.0                  377.25  \n",
       "4               5.0                  422.90  "
      ]
     },
     "execution_count": 23,
     "metadata": {},
     "output_type": "execute_result"
    }
   ],
   "source": [
    "data.head()"
   ]
  },
  {
   "cell_type": "markdown",
   "id": "7ecf1219",
   "metadata": {},
   "source": [
    "Display the columns of the dataset:"
   ]
  },
  {
   "cell_type": "code",
   "execution_count": 24,
   "id": "7e2cbc16",
   "metadata": {},
   "outputs": [
    {
     "data": {
      "text/plain": [
       "['Date',\n",
       " 'Month',\n",
       " 'Day',\n",
       " 'Hour',\n",
       " 'Municipality',\n",
       " 'Average Usage',\n",
       " 'Density',\n",
       " 'Cumulative Hours',\n",
       " '50 Hour Moving Average']"
      ]
     },
     "execution_count": 24,
     "metadata": {},
     "output_type": "execute_result"
    }
   ],
   "source": [
    "data.columns.to_list()"
   ]
  },
  {
   "cell_type": "markdown",
   "id": "0ed33a3f",
   "metadata": {},
   "source": [
    "Define a dataset named bus_demand using a set of columns:"
   ]
  },
  {
   "cell_type": "code",
   "execution_count": 25,
   "id": "03a4eb2e",
   "metadata": {},
   "outputs": [
    {
     "data": {
      "text/html": [
       "<div>\n",
       "<style scoped>\n",
       "    .dataframe tbody tr th:only-of-type {\n",
       "        vertical-align: middle;\n",
       "    }\n",
       "\n",
       "    .dataframe tbody tr th {\n",
       "        vertical-align: top;\n",
       "    }\n",
       "\n",
       "    .dataframe thead th {\n",
       "        text-align: right;\n",
       "    }\n",
       "</style>\n",
       "<table border=\"1\" class=\"dataframe\">\n",
       "  <thead>\n",
       "    <tr style=\"text-align: right;\">\n",
       "      <th></th>\n",
       "      <th>Month</th>\n",
       "      <th>Day</th>\n",
       "      <th>Hour</th>\n",
       "      <th>Municipality</th>\n",
       "      <th>Average Usage</th>\n",
       "      <th>Density</th>\n",
       "      <th>Cumulative Hours</th>\n",
       "      <th>50 Hour Moving Average</th>\n",
       "    </tr>\n",
       "  </thead>\n",
       "  <tbody>\n",
       "    <tr>\n",
       "      <th>0</th>\n",
       "      <td>6</td>\n",
       "      <td>4</td>\n",
       "      <td>7</td>\n",
       "      <td>0</td>\n",
       "      <td>204.0</td>\n",
       "      <td>0.07</td>\n",
       "      <td>1.0</td>\n",
       "      <td>204.00</td>\n",
       "    </tr>\n",
       "    <tr>\n",
       "      <th>1</th>\n",
       "      <td>6</td>\n",
       "      <td>4</td>\n",
       "      <td>8</td>\n",
       "      <td>0</td>\n",
       "      <td>289.5</td>\n",
       "      <td>0.10</td>\n",
       "      <td>2.0</td>\n",
       "      <td>246.75</td>\n",
       "    </tr>\n",
       "    <tr>\n",
       "      <th>2</th>\n",
       "      <td>6</td>\n",
       "      <td>4</td>\n",
       "      <td>9</td>\n",
       "      <td>0</td>\n",
       "      <td>457.0</td>\n",
       "      <td>0.16</td>\n",
       "      <td>3.0</td>\n",
       "      <td>316.83</td>\n",
       "    </tr>\n",
       "    <tr>\n",
       "      <th>3</th>\n",
       "      <td>6</td>\n",
       "      <td>4</td>\n",
       "      <td>10</td>\n",
       "      <td>0</td>\n",
       "      <td>558.5</td>\n",
       "      <td>0.20</td>\n",
       "      <td>4.0</td>\n",
       "      <td>377.25</td>\n",
       "    </tr>\n",
       "    <tr>\n",
       "      <th>4</th>\n",
       "      <td>6</td>\n",
       "      <td>4</td>\n",
       "      <td>11</td>\n",
       "      <td>0</td>\n",
       "      <td>605.5</td>\n",
       "      <td>0.22</td>\n",
       "      <td>5.0</td>\n",
       "      <td>422.90</td>\n",
       "    </tr>\n",
       "  </tbody>\n",
       "</table>\n",
       "</div>"
      ],
      "text/plain": [
       "   Month  Day  Hour  Municipality  Average Usage  Density  Cumulative Hours  \\\n",
       "0      6    4     7             0          204.0     0.07               1.0   \n",
       "1      6    4     8             0          289.5     0.10               2.0   \n",
       "2      6    4     9             0          457.0     0.16               3.0   \n",
       "3      6    4    10             0          558.5     0.20               4.0   \n",
       "4      6    4    11             0          605.5     0.22               5.0   \n",
       "\n",
       "   50 Hour Moving Average  \n",
       "0                  204.00  \n",
       "1                  246.75  \n",
       "2                  316.83  \n",
       "3                  377.25  \n",
       "4                  422.90  "
      ]
     },
     "execution_count": 25,
     "metadata": {},
     "output_type": "execute_result"
    }
   ],
   "source": [
    "bus_demand = data[['Month', 'Day', 'Hour', 'Municipality', 'Average Usage', 'Density', 'Cumulative Hours', '50 Hour Moving Average']]\n",
    "bus_demand.head()"
   ]
  },
  {
   "cell_type": "markdown",
   "id": "b2838e6d",
   "metadata": {},
   "source": [
    "Try different regressors and gather the results under the report_df:"
   ]
  },
  {
   "cell_type": "code",
   "execution_count": 26,
   "id": "7b4ee2ad",
   "metadata": {},
   "outputs": [],
   "source": [
    "report_df = pd.DataFrame()"
   ]
  },
  {
   "cell_type": "markdown",
   "id": "bdee7015",
   "metadata": {},
   "source": [
    "Import necessary libraries for machine learning models and regression evaluation metrics to perform time series regression over the bus_demand data:"
   ]
  },
  {
   "cell_type": "code",
   "execution_count": 27,
   "id": "5ea8dc2b",
   "metadata": {},
   "outputs": [],
   "source": [
    "from sklearn.linear_model import LinearRegression\n",
    "from sklearn.ensemble import RandomForestRegressor, GradientBoostingRegressor\n",
    "from sklearn.metrics import r2_score, mean_absolute_percentage_error, mean_squared_error"
   ]
  },
  {
   "cell_type": "markdown",
   "id": "2cab2954",
   "metadata": {},
   "source": [
    "## 2.1. Linear Regression"
   ]
  },
  {
   "cell_type": "code",
   "execution_count": 28,
   "id": "90e0c346",
   "metadata": {},
   "outputs": [],
   "source": [
    "# Define a regression model\n",
    "linear = LinearRegression()"
   ]
  },
  {
   "cell_type": "code",
   "execution_count": 29,
   "id": "ebb8b3e9",
   "metadata": {},
   "outputs": [],
   "source": [
    "r2_list = list()\n",
    "mape_list = list()\n",
    "\n",
    "for muni_id in range(0, 10):\n",
    "    \n",
    "    # Train and test split as last two weeks of each municipality are for testing purposes\n",
    "    mapping_data = bus_demand[bus_demand[\"Municipality\"]==muni_id]\n",
    "    test_mapping = (mapping_data[\"Month\"]==8) & (mapping_data[\"Day\"]>=4)\n",
    "    \n",
    "    training_set = mapping_data[~test_mapping]\n",
    "    y_train = training_set[\"Average Usage\"]\n",
    "    X_train = training_set.drop(columns=[\"Average Usage\"])\n",
    "    \n",
    "    test_set = mapping_data[test_mapping]\n",
    "    y_test = test_set[\"Average Usage\"]\n",
    "    X_test = test_set.drop(columns=[\"Average Usage\"])\n",
    "    \n",
    "    # Train the model\n",
    "    linear.fit(X_train, y_train)\n",
    "    # Make predictions\n",
    "    preds = linear.predict(X_test)\n",
    "    \n",
    "    r2 = r2_score(y_test, preds)\n",
    "    r2_list.append(r2)\n",
    "    mape = mean_absolute_percentage_error(y_test, preds)\n",
    "    mape_list.append(mape)\n",
    "    \n",
    "# Calculate the mean score using metrics from each municipality\n",
    "mean_r2 = np.mean(r2_list).round(4)\n",
    "mean_mape = np.mean(mape_list).round(4)\n",
    "\n",
    "lr_result = {\n",
    "    \"Model\": \"Linear Regression\",\n",
    "    \"R2\": mean_r2,\n",
    "    \"MAPE\": mean_mape,\n",
    "}\n",
    "\n",
    "report_df = report_df.append(lr_result, ignore_index=True, sort=True)"
   ]
  },
  {
   "cell_type": "markdown",
   "id": "022d286f",
   "metadata": {},
   "source": [
    "## 2.2. Random Forest Regressor"
   ]
  },
  {
   "cell_type": "markdown",
   "id": "713254d6",
   "metadata": {},
   "source": [
    "This time we will perform a basic hyperparameter tuning for the forest model. We will analyze different tree depths and try to determine the optimal one that provides the least mean percentage error and the highest R2 Score."
   ]
  },
  {
   "cell_type": "code",
   "execution_count": 30,
   "id": "0ba6e34d",
   "metadata": {},
   "outputs": [],
   "source": [
    "depth_list = np.arange(1, 11)\n",
    "\n",
    "overall_mape = list()\n",
    "overall_r2 = list()\n",
    "\n",
    "for depth in depth_list:\n",
    "    \n",
    "    # Define a regression model\n",
    "    forest = RandomForestRegressor(\n",
    "        max_depth=depth,\n",
    "        random_state=42,\n",
    "    )\n",
    "\n",
    "    r2_list = list()\n",
    "    mape_list = list()\n",
    "\n",
    "    for muni_id in range(0, 10):\n",
    "\n",
    "        # Train and test split as last two weeks of each municipality are for testing purposes\n",
    "        mapping_data = bus_demand[bus_demand[\"Municipality\"]==muni_id]\n",
    "        test_mapping = (mapping_data[\"Month\"]==8) & (mapping_data[\"Day\"]>=4)\n",
    "\n",
    "        training_set = mapping_data[~test_mapping]\n",
    "        y_train = training_set[\"Average Usage\"]\n",
    "        X_train = training_set.drop(columns=[\"Average Usage\"])\n",
    "\n",
    "        test_set = mapping_data[test_mapping]\n",
    "        y_test = test_set[\"Average Usage\"]\n",
    "        X_test = test_set.drop(columns=[\"Average Usage\"])\n",
    "\n",
    "        # Train the model\n",
    "        forest.fit(X_train, y_train)\n",
    "        # Make predictions\n",
    "        preds = forest.predict(X_test)\n",
    "\n",
    "        r2 = r2_score(y_test, preds)\n",
    "        r2_list.append(r2)\n",
    "        mape = mean_absolute_percentage_error(y_test, preds)\n",
    "        mape_list.append(mape)\n",
    "    \n",
    "    # Calculate the mean score using metrics from each municipality\n",
    "    mean_r2 = np.mean(r2_list).round(4)\n",
    "    mean_mape = np.mean(mape_list).round(4)\n",
    "    \n",
    "    # Save the average R2 Score and MAPE for a maximum tree depth:\n",
    "    overall_r2.append(mean_r2)\n",
    "    overall_mape.append(mean_mape)"
   ]
  },
  {
   "cell_type": "markdown",
   "id": "d859b8c6",
   "metadata": {},
   "source": [
    "Use a validation curve that helps us observe the trade-off between bias (MAPE) and variance (R2) and determine the optimal tree depth."
   ]
  },
  {
   "cell_type": "code",
   "execution_count": 31,
   "id": "51e655a1",
   "metadata": {},
   "outputs": [
    {
     "data": {
      "image/png": "[encoded data removed]",
      "text/plain": [
       "<Figure size 576x432 with 1 Axes>"
      ]
     },
     "metadata": {
      "needs_background": "light"
     },
     "output_type": "display_data"
    }
   ],
   "source": [
    "plt.figure(figsize=(8, 6))\n",
    "plt.plot(depth_list, overall_r2, label=\"R2 Score\")\n",
    "plt.plot(depth_list, overall_mape, label=\"MAPE\")\n",
    "plt.xticks(depth_list)\n",
    "plt.xlabel(\"Maximum tree depth\")\n",
    "plt.legend()\n",
    "plt.show()"
   ]
  },
  {
   "cell_type": "markdown",
   "id": "d26ab16d",
   "metadata": {},
   "source": [
    "From the validation curve above, we can see that the optimal tree depth is **four (4)**. After this point, the result improvement slows down. We will now use this parameter value to train the Random Forest Regressor."
   ]
  },
  {
   "cell_type": "code",
   "execution_count": 32,
   "id": "2814428f",
   "metadata": {},
   "outputs": [],
   "source": [
    "# Define a regression model\n",
    "forest = RandomForestRegressor(\n",
    "    max_depth=4,\n",
    "    random_state=42,\n",
    ")"
   ]
  },
  {
   "cell_type": "code",
   "execution_count": 33,
   "id": "01edfff1",
   "metadata": {},
   "outputs": [],
   "source": [
    "r2_list = list()\n",
    "mape_list = list()\n",
    "\n",
    "for muni_id in range(0, 10):\n",
    "    \n",
    "    # Train and test split as last two weeks of each municipality are for testing purposes\n",
    "    mapping_data = bus_demand[bus_demand[\"Municipality\"]==muni_id]\n",
    "    test_mapping = (mapping_data[\"Month\"]==8) & (mapping_data[\"Day\"]>=4)\n",
    "    \n",
    "    training_set = mapping_data[~test_mapping]\n",
    "    y_train = training_set[\"Average Usage\"]\n",
    "    X_train = training_set.drop(columns=[\"Average Usage\"])\n",
    "    \n",
    "    test_set = mapping_data[test_mapping]\n",
    "    y_test = test_set[\"Average Usage\"]\n",
    "    X_test = test_set.drop(columns=[\"Average Usage\"])\n",
    "    \n",
    "    # Train the model\n",
    "    forest.fit(X_train, y_train)\n",
    "    # Make predictions\n",
    "    preds = forest.predict(X_test)\n",
    "    \n",
    "    r2 = r2_score(y_test, preds)\n",
    "    r2_list.append(r2)\n",
    "    mape = mean_absolute_percentage_error(y_test, preds)\n",
    "    mape_list.append(mape)\n",
    "    \n",
    "# Calculate the mean score using metrics from each municipality\n",
    "mean_r2 = np.mean(r2_list).round(4)\n",
    "mean_mape = np.mean(mape_list).round(4)\n",
    "\n",
    "forest_result = {\n",
    "    \"Model\": \"Random Forest Regressor\",\n",
    "    \"R2\": mean_r2,\n",
    "    \"MAPE\": mean_mape,\n",
    "}\n",
    "\n",
    "report_df = report_df.append(forest_result, ignore_index=True, sort=True)"
   ]
  },
  {
   "cell_type": "markdown",
   "id": "58f6a16f",
   "metadata": {},
   "source": [
    "## 2.3. Gradient Boosting Regressor"
   ]
  },
  {
   "cell_type": "markdown",
   "id": "60961c61",
   "metadata": {},
   "source": [
    "This time we will perform a relatively extensive hyperparameter tuning using more than one hyperparameter."
   ]
  },
  {
   "cell_type": "code",
   "execution_count": 34,
   "id": "e4295154",
   "metadata": {},
   "outputs": [],
   "source": [
    "from sklearn.model_selection import GridSearchCV"
   ]
  },
  {
   "cell_type": "code",
   "execution_count": 35,
   "id": "02e04a51",
   "metadata": {},
   "outputs": [
    {
     "data": {
      "text/plain": [
       "{'alpha': 0.9,\n",
       " 'ccp_alpha': 0.0,\n",
       " 'criterion': 'friedman_mse',\n",
       " 'init': None,\n",
       " 'learning_rate': 0.1,\n",
       " 'loss': 'squared_error',\n",
       " 'max_depth': 3,\n",
       " 'max_features': None,\n",
       " 'max_leaf_nodes': None,\n",
       " 'min_impurity_decrease': 0.0,\n",
       " 'min_samples_leaf': 1,\n",
       " 'min_samples_split': 2,\n",
       " 'min_weight_fraction_leaf': 0.0,\n",
       " 'n_estimators': 100,\n",
       " 'n_iter_no_change': None,\n",
       " 'random_state': None,\n",
       " 'subsample': 1.0,\n",
       " 'tol': 0.0001,\n",
       " 'validation_fraction': 0.1,\n",
       " 'verbose': 0,\n",
       " 'warm_start': False}"
      ]
     },
     "execution_count": 35,
     "metadata": {},
     "output_type": "execute_result"
    }
   ],
   "source": [
    "GradientBoostingRegressor().get_params()"
   ]
  },
  {
   "cell_type": "markdown",
   "id": "c1c59e5e",
   "metadata": {},
   "source": [
    "Select a random municipality for simplicity:"
   ]
  },
  {
   "cell_type": "code",
   "execution_count": 36,
   "id": "b2f5d23a",
   "metadata": {},
   "outputs": [],
   "source": [
    "random_muni = 5"
   ]
  },
  {
   "cell_type": "markdown",
   "id": "bce90060",
   "metadata": {},
   "source": [
    "Perform hyperparameter tuning:"
   ]
  },
  {
   "cell_type": "code",
   "execution_count": 37,
   "id": "3a4aaa4b",
   "metadata": {},
   "outputs": [
    {
     "name": "stdout",
     "output_type": "stream",
     "text": [
      "Fitting 5 folds for each of 880 candidates, totalling 4400 fits\n"
     ]
    },
    {
     "data": {
      "text/html": [
       "<style>#sk-1dace55b-ea68-449c-9ee3-b25bd843806c {color: black;background-color: white;}#sk-1dace55b-ea68-449c-9ee3-b25bd843806c pre{padding: 0;}#sk-1dace55b-ea68-449c-9ee3-b25bd843806c div.sk-toggleable {background-color: white;}#sk-1dace55b-ea68-449c-9ee3-b25bd843806c label.sk-toggleable__label {cursor: pointer;display: block;width: 100%;margin-bottom: 0;padding: 0.3em;box-sizing: border-box;text-align: center;}#sk-1dace55b-ea68-449c-9ee3-b25bd843806c label.sk-toggleable__label-arrow:before {content: \"▸\";float: left;margin-right: 0.25em;color: #696969;}#sk-1dace55b-ea68-449c-9ee3-b25bd843806c label.sk-toggleable__label-arrow:hover:before {color: black;}#sk-1dace55b-ea68-449c-9ee3-b25bd843806c div.sk-estimator:hover label.sk-toggleable__label-arrow:before {color: black;}#sk-1dace55b-ea68-449c-9ee3-b25bd843806c div.sk-toggleable__content {max-height: 0;max-width: 0;overflow: hidden;text-align: left;background-color: #f0f8ff;}#sk-1dace55b-ea68-449c-9ee3-b25bd843806c div.sk-toggleable__content pre {margin: 0.2em;color: black;border-radius: 0.25em;background-color: #f0f8ff;}#sk-1dace55b-ea68-449c-9ee3-b25bd843806c input.sk-toggleable__control:checked~div.sk-toggleable__content {max-height: 200px;max-width: 100%;overflow: auto;}#sk-1dace55b-ea68-449c-9ee3-b25bd843806c input.sk-toggleable__control:checked~label.sk-toggleable__label-arrow:before {content: \"▾\";}#sk-1dace55b-ea68-449c-9ee3-b25bd843806c div.sk-estimator input.sk-toggleable__control:checked~label.sk-toggleable__label {background-color: #d4ebff;}#sk-1dace55b-ea68-449c-9ee3-b25bd843806c div.sk-label input.sk-toggleable__control:checked~label.sk-toggleable__label {background-color: #d4ebff;}#sk-1dace55b-ea68-449c-9ee3-b25bd843806c input.sk-hidden--visually {border: 0;clip: rect(1px 1px 1px 1px);clip: rect(1px, 1px, 1px, 1px);height: 1px;margin: -1px;overflow: hidden;padding: 0;position: absolute;width: 1px;}#sk-1dace55b-ea68-449c-9ee3-b25bd843806c div.sk-estimator {font-family: monospace;background-color: #f0f8ff;border: 1px dotted black;border-radius: 0.25em;box-sizing: border-box;margin-bottom: 0.5em;}#sk-1dace55b-ea68-449c-9ee3-b25bd843806c div.sk-estimator:hover {background-color: #d4ebff;}#sk-1dace55b-ea68-449c-9ee3-b25bd843806c div.sk-parallel-item::after {content: \"\";width: 100%;border-bottom: 1px solid gray;flex-grow: 1;}#sk-1dace55b-ea68-449c-9ee3-b25bd843806c div.sk-label:hover label.sk-toggleable__label {background-color: #d4ebff;}#sk-1dace55b-ea68-449c-9ee3-b25bd843806c div.sk-serial::before {content: \"\";position: absolute;border-left: 1px solid gray;box-sizing: border-box;top: 2em;bottom: 0;left: 50%;}#sk-1dace55b-ea68-449c-9ee3-b25bd843806c div.sk-serial {display: flex;flex-direction: column;align-items: center;background-color: white;padding-right: 0.2em;padding-left: 0.2em;}#sk-1dace55b-ea68-449c-9ee3-b25bd843806c div.sk-item {z-index: 1;}#sk-1dace55b-ea68-449c-9ee3-b25bd843806c div.sk-parallel {display: flex;align-items: stretch;justify-content: center;background-color: white;}#sk-1dace55b-ea68-449c-9ee3-b25bd843806c div.sk-parallel::before {content: \"\";position: absolute;border-left: 1px solid gray;box-sizing: border-box;top: 2em;bottom: 0;left: 50%;}#sk-1dace55b-ea68-449c-9ee3-b25bd843806c div.sk-parallel-item {display: flex;flex-direction: column;position: relative;background-color: white;}#sk-1dace55b-ea68-449c-9ee3-b25bd843806c div.sk-parallel-item:first-child::after {align-self: flex-end;width: 50%;}#sk-1dace55b-ea68-449c-9ee3-b25bd843806c div.sk-parallel-item:last-child::after {align-self: flex-start;width: 50%;}#sk-1dace55b-ea68-449c-9ee3-b25bd843806c div.sk-parallel-item:only-child::after {width: 0;}#sk-1dace55b-ea68-449c-9ee3-b25bd843806c div.sk-dashed-wrapped {border: 1px dashed gray;margin: 0 0.4em 0.5em 0.4em;box-sizing: border-box;padding-bottom: 0.4em;background-color: white;position: relative;}#sk-1dace55b-ea68-449c-9ee3-b25bd843806c div.sk-label label {font-family: monospace;font-weight: bold;background-color: white;display: inline-block;line-height: 1.2em;}#sk-1dace55b-ea68-449c-9ee3-b25bd843806c div.sk-label-container {position: relative;z-index: 2;text-align: center;}#sk-1dace55b-ea68-449c-9ee3-b25bd843806c div.sk-container {/* jupyter's `normalize.less` sets `[hidden] { display: none; }` but bootstrap.min.css set `[hidden] { display: none !important; }` so we also need the `!important` here to be able to override the default hidden behavior on the sphinx rendered scikit-learn.org. See: https://github.com/scikit-learn/scikit-learn/issues/21755 */display: inline-block !important;position: relative;}#sk-1dace55b-ea68-449c-9ee3-b25bd843806c div.sk-text-repr-fallback {display: none;}</style><div id=\"sk-1dace55b-ea68-449c-9ee3-b25bd843806c\" class=\"sk-top-container\"><div class=\"sk-text-repr-fallback\"><pre>GridSearchCV(cv=5, estimator=GradientBoostingRegressor(random_state=42),\n",
       "             n_jobs=-1,\n",
       "             param_grid={&#x27;criterion&#x27;: [&#x27;friedman_mse&#x27;, &#x27;squared_error&#x27;],\n",
       "                         &#x27;learning_rate&#x27;: array([0.001, 0.011, 0.021, 0.031, 0.041, 0.051, 0.061, 0.071, 0.081,\n",
       "       0.091, 0.101]),\n",
       "                         &#x27;loss&#x27;: [&#x27;squared_error&#x27;, &#x27;absolute_error&#x27;, &#x27;huber&#x27;,\n",
       "                                  &#x27;quantile&#x27;],\n",
       "                         &#x27;max_depth&#x27;: array([ 1,  2,  3,  4,  5,  6,  7,  8,  9, 10])},\n",
       "             verbose=1)</pre><b>Please rerun this cell to show the HTML repr or trust the notebook.</b></div><div class=\"sk-container\" hidden><div class=\"sk-item sk-dashed-wrapped\"><div class=\"sk-label-container\"><div class=\"sk-label sk-toggleable\"><input class=\"sk-toggleable__control sk-hidden--visually\" id=\"9b4e2add-e870-45ff-930e-f937989fcf7d\" type=\"checkbox\" ><label for=\"9b4e2add-e870-45ff-930e-f937989fcf7d\" class=\"sk-toggleable__label sk-toggleable__label-arrow\">GridSearchCV</label><div class=\"sk-toggleable__content\"><pre>GridSearchCV(cv=5, estimator=GradientBoostingRegressor(random_state=42),\n",
       "             n_jobs=-1,\n",
       "             param_grid={&#x27;criterion&#x27;: [&#x27;friedman_mse&#x27;, &#x27;squared_error&#x27;],\n",
       "                         &#x27;learning_rate&#x27;: array([0.001, 0.011, 0.021, 0.031, 0.041, 0.051, 0.061, 0.071, 0.081,\n",
       "       0.091, 0.101]),\n",
       "                         &#x27;loss&#x27;: [&#x27;squared_error&#x27;, &#x27;absolute_error&#x27;, &#x27;huber&#x27;,\n",
       "                                  &#x27;quantile&#x27;],\n",
       "                         &#x27;max_depth&#x27;: array([ 1,  2,  3,  4,  5,  6,  7,  8,  9, 10])},\n",
       "             verbose=1)</pre></div></div></div><div class=\"sk-parallel\"><div class=\"sk-parallel-item\"><div class=\"sk-item\"><div class=\"sk-serial\"><div class=\"sk-item\"><div class=\"sk-estimator sk-toggleable\"><input class=\"sk-toggleable__control sk-hidden--visually\" id=\"96862a5b-9a72-494a-bfa7-15ad6f0d2dc4\" type=\"checkbox\" ><label for=\"96862a5b-9a72-494a-bfa7-15ad6f0d2dc4\" class=\"sk-toggleable__label sk-toggleable__label-arrow\">GradientBoostingRegressor</label><div class=\"sk-toggleable__content\"><pre>GradientBoostingRegressor(random_state=42)</pre></div></div></div></div></div></div></div></div></div></div>"
      ],
      "text/plain": [
       "GridSearchCV(cv=5, estimator=GradientBoostingRegressor(random_state=42),\n",
       "             n_jobs=-1,\n",
       "             param_grid={'criterion': ['friedman_mse', 'squared_error'],\n",
       "                         'learning_rate': array([0.001, 0.011, 0.021, 0.031, 0.041, 0.051, 0.061, 0.071, 0.081,\n",
       "       0.091, 0.101]),\n",
       "                         'loss': ['squared_error', 'absolute_error', 'huber',\n",
       "                                  'quantile'],\n",
       "                         'max_depth': array([ 1,  2,  3,  4,  5,  6,  7,  8,  9, 10])},\n",
       "             verbose=1)"
      ]
     },
     "execution_count": 37,
     "metadata": {},
     "output_type": "execute_result"
    }
   ],
   "source": [
    "training_set = bus_demand[bus_demand[\"Municipality\"]==random_muni]\n",
    "y_train = training_set[\"Average Usage\"]\n",
    "X_train = training_set.drop(columns=[\"Average Usage\"])\n",
    "\n",
    "# Initiate a regression model\n",
    "gradient = GradientBoostingRegressor(random_state=42)\n",
    "\n",
    "grid_params = {\n",
    "    \"loss\": [\"squared_error\", \"absolute_error\", \"huber\", \"quantile\"],\n",
    "    \"criterion\": [\"friedman_mse\", \"squared_error\"],\n",
    "    \"learning_rate\": np.arange(1, 110, 10)* 1e-3,\n",
    "    \"max_depth\": np.arange(1, 11),    \n",
    "}\n",
    "\n",
    "grid_search = GridSearchCV(gradient, grid_params, verbose=1, cv=5, n_jobs=-1)\n",
    "grid_search.fit(X_train, y_train)"
   ]
  },
  {
   "cell_type": "markdown",
   "id": "3d30074e",
   "metadata": {},
   "source": [
    "According to the results of GridSearch, the best score and the optimal estimation parameters are:"
   ]
  },
  {
   "cell_type": "code",
   "execution_count": 38,
   "id": "261a4a33",
   "metadata": {},
   "outputs": [
    {
     "name": "stdout",
     "output_type": "stream",
     "text": [
      "Best Score: 0.9967\n",
      "Optimal parameter combination:\n",
      " GradientBoostingRegressor(criterion='squared_error', learning_rate=0.091,\n",
      "                          max_depth=4, random_state=42)\n"
     ]
    }
   ],
   "source": [
    "print(f\"Best Score: {grid_search.best_score_:.4f}\")\n",
    "print(\"Optimal parameter combination:\\n\", grid_search.best_estimator_)"
   ]
  },
  {
   "cell_type": "markdown",
   "id": "7ea59f61",
   "metadata": {},
   "source": [
    "Let us now train a regression model using the optimal setting obtained from grid search:"
   ]
  },
  {
   "cell_type": "code",
   "execution_count": 39,
   "id": "efbf2dc6",
   "metadata": {},
   "outputs": [],
   "source": [
    "# Define a regression model\n",
    "gradient = GradientBoostingRegressor(\n",
    "    criterion=\"squared_error\",\n",
    "    learning_rate=0.09,\n",
    "    max_depth=4,\n",
    "    random_state=42,\n",
    ")"
   ]
  },
  {
   "cell_type": "code",
   "execution_count": 40,
   "id": "f7f939ff",
   "metadata": {},
   "outputs": [],
   "source": [
    "r2_list = list()\n",
    "mape_list = list()\n",
    "\n",
    "for muni_id in range(0, 10):\n",
    "    \n",
    "    # Train and test split as last two weeks of each municipality are for testing purposes\n",
    "    mapping_data = bus_demand[bus_demand[\"Municipality\"]==muni_id]\n",
    "    test_mapping = (mapping_data[\"Month\"]==8) & (mapping_data[\"Day\"]>=4)\n",
    "    \n",
    "    training_set = mapping_data[~test_mapping]\n",
    "    y_train = training_set[\"Average Usage\"]\n",
    "    X_train = training_set.drop(columns=[\"Average Usage\"])\n",
    "    \n",
    "    test_set = mapping_data[test_mapping]\n",
    "    y_test = test_set[\"Average Usage\"]\n",
    "    X_test = test_set.drop(columns=[\"Average Usage\"])\n",
    "    \n",
    "    # Train the model\n",
    "    gradient.fit(X_train, y_train)\n",
    "    # Make predictions\n",
    "    preds = gradient.predict(X_test)\n",
    "    \n",
    "    r2 = r2_score(y_test, preds)\n",
    "    r2_list.append(r2)\n",
    "    mape = mean_absolute_percentage_error(y_test, preds)\n",
    "    mape_list.append(mape)\n",
    "    \n",
    "# Calculate the mean score using metrics from each municipality\n",
    "mean_r2 = np.mean(r2_list).round(4)\n",
    "mean_mape = np.mean(mape_list).round(4)\n",
    "\n",
    "gradient_result = {\n",
    "    \"Model\": \"Gradient Boosting Regressor\",\n",
    "    \"R2\": mean_r2,\n",
    "    \"MAPE\": mean_mape,\n",
    "}\n",
    "\n",
    "report_df = report_df.append(gradient_result, ignore_index=True, sort=True)"
   ]
  },
  {
   "cell_type": "markdown",
   "id": "3f9f5b7a",
   "metadata": {},
   "source": [
    "# 3) Results and Discussion"
   ]
  },
  {
   "cell_type": "markdown",
   "id": "b66204d7",
   "metadata": {},
   "source": [
    "Edit the order of columns and sort the the values:"
   ]
  },
  {
   "cell_type": "code",
   "execution_count": 41,
   "id": "ad2e6f1c",
   "metadata": {},
   "outputs": [
    {
     "data": {
      "text/html": [
       "<div>\n",
       "<style scoped>\n",
       "    .dataframe tbody tr th:only-of-type {\n",
       "        vertical-align: middle;\n",
       "    }\n",
       "\n",
       "    .dataframe tbody tr th {\n",
       "        vertical-align: top;\n",
       "    }\n",
       "\n",
       "    .dataframe thead th {\n",
       "        text-align: right;\n",
       "    }\n",
       "</style>\n",
       "<table border=\"1\" class=\"dataframe\">\n",
       "  <thead>\n",
       "    <tr style=\"text-align: right;\">\n",
       "      <th></th>\n",
       "      <th>Model</th>\n",
       "      <th>R2</th>\n",
       "      <th>MAPE</th>\n",
       "    </tr>\n",
       "  </thead>\n",
       "  <tbody>\n",
       "    <tr>\n",
       "      <th>0</th>\n",
       "      <td>Linear Regression</td>\n",
       "      <td>0.9995</td>\n",
       "      <td>0.0073</td>\n",
       "    </tr>\n",
       "    <tr>\n",
       "      <th>2</th>\n",
       "      <td>Gradient Boosting Regressor</td>\n",
       "      <td>0.9989</td>\n",
       "      <td>0.0144</td>\n",
       "    </tr>\n",
       "    <tr>\n",
       "      <th>1</th>\n",
       "      <td>Random Forest Regressor</td>\n",
       "      <td>0.9964</td>\n",
       "      <td>0.0253</td>\n",
       "    </tr>\n",
       "  </tbody>\n",
       "</table>\n",
       "</div>"
      ],
      "text/plain": [
       "                         Model      R2    MAPE\n",
       "0            Linear Regression  0.9995  0.0073\n",
       "2  Gradient Boosting Regressor  0.9989  0.0144\n",
       "1      Random Forest Regressor  0.9964  0.0253"
      ]
     },
     "execution_count": 41,
     "metadata": {},
     "output_type": "execute_result"
    }
   ],
   "source": [
    "report_df = report_df[[\"Model\", \"R2\", \"MAPE\"]]\n",
    "report_df = report_df.sort_values(by=[\"R2\"], ascending=False)\n",
    "report_df"
   ]
  },
  {
   "cell_type": "markdown",
   "id": "855b5e17",
   "metadata": {},
   "source": [
    "Save the results to a CSV file:"
   ]
  },
  {
   "cell_type": "code",
   "execution_count": 42,
   "id": "0a434c5d",
   "metadata": {},
   "outputs": [],
   "source": [
    "report_df.to_csv(\"regression_results.csv\")"
   ]
  },
  {
   "cell_type": "markdown",
   "id": "fcb99a0d",
   "metadata": {},
   "source": [
    "We can see that the **linear regression model** outperformed the others in predicting the average bus demand of the given municipalities with dominance in terms of accuracy (low error) and generalization power (high R2). Let us now visualize the estimation process of this regressor by plotting the target and predicted values."
   ]
  },
  {
   "cell_type": "code",
   "execution_count": 43,
   "id": "4d92aded",
   "metadata": {},
   "outputs": [],
   "source": [
    "mapping_data = bus_demand[bus_demand[\"Municipality\"]==5].reset_index()\n",
    "date_list = list()\n",
    "\n",
    "for i in range(mapping_data.shape[0]):\n",
    "    \n",
    "    m, d, h = mapping_data.loc[i, \"Month\"], mapping_data.loc[i, \"Day\"], mapping_data.loc[i, \"Hour\"]\n",
    "    date_list.append(f\"{m}/{d}/{h}\")"
   ]
  },
  {
   "cell_type": "code",
   "execution_count": 44,
   "id": "2905cb92",
   "metadata": {},
   "outputs": [
    {
     "name": "stderr",
     "output_type": "stream",
     "text": [
      "C:\\Users\\User\\anaconda3\\envs\\pytorch_p37\\lib\\site-packages\\ipykernel_launcher.py:65: UserWarning: FixedFormatter should only be used together with FixedLocator\n"
     ]
    },
    {
     "data": {
      "image/png": "[encoded data removed]",
      "text/plain": [
       "<Figure size 1152x648 with 1 Axes>"
      ]
     },
     "metadata": {
      "needs_background": "light"
     },
     "output_type": "display_data"
    }
   ],
   "source": [
    "# Define a regression model\n",
    "final_model = LinearRegression()\n",
    "\n",
    "# Select a random municipality\n",
    "random_muni = 5\n",
    "    \n",
    "# Train and test split as last two weeks of each municipality are for testing purposes\n",
    "mapping_data = bus_demand[bus_demand[\"Municipality\"]==random_muni].reset_index()\n",
    "date_list = list()\n",
    "\n",
    "for i in range(mapping_data.shape[0]):\n",
    "    \n",
    "    m, d, h = mapping_data.loc[i, \"Month\"], mapping_data.loc[i, \"Day\"], mapping_data.loc[i, \"Hour\"]\n",
    "    date_list.append(f\"{m}/{d}/{h}\")\n",
    "\n",
    "# Apply mapping to split the data into training and test sets\n",
    "test_mapping = (mapping_data[\"Month\"]==8) & (mapping_data[\"Day\"]>=4)\n",
    "\n",
    "training_set = mapping_data[~test_mapping]\n",
    "y_train = training_set[\"Average Usage\"]\n",
    "X_train = training_set.drop(columns=[\"Average Usage\"])\n",
    "\n",
    "test_set = mapping_data[test_mapping]\n",
    "y_test = test_set[\"Average Usage\"]\n",
    "X_test = test_set.drop(columns=[\"Average Usage\"])\n",
    "\n",
    "# Train the model\n",
    "final_model.fit(X_train, y_train)\n",
    "# Make predictions\n",
    "preds = final_model.predict(X_test)\n",
    "# Evaluate the regression results\n",
    "r2 = r2_score(y_test, preds)\n",
    "mape = mean_absolute_percentage_error(y_test, preds)\n",
    "\n",
    "# Visualize the estimation process\n",
    "fig, ax = plt.subplots(1, 1, figsize=(16, 9))\n",
    "ax.plot(\n",
    "    X_train.index, \n",
    "    y_train, \n",
    "    label=\"training\",\n",
    "    color=\"salmon\",\n",
    "    lw=2,\n",
    "    linestyle=\"solid\",\n",
    ")\n",
    "ax.plot(\n",
    "    X_test.index, \n",
    "    y_test, \n",
    "    label=\"target_test\",\n",
    "    lw=2,\n",
    "    color=\"deepskyblue\",\n",
    "    alpha=0.4,\n",
    "    linestyle='solid',\n",
    ")\n",
    "ax.plot(\n",
    "    X_test.index, \n",
    "    final_model.predict(X_test), \n",
    "    label=f\"predictions_test\\nMAPE={mape:.4f}\\nR2={r2:.4f}\",\n",
    "    color=\"violet\",\n",
    "    alpha=0.95,\n",
    "    lw=2,\n",
    "    linestyle='dashed',\n",
    ")\n",
    "ax.set_xlabel(\"Date (month/day/hour)\")\n",
    "ax.set_ylabel(\"Average Bus Demand (people)\")\n",
    "ax.set_xticklabels(date_list[::75], rotation=\"vertical\", fontsize=12)\n",
    "ax.legend()\n",
    "plt.show()"
   ]
  },
  {
   "cell_type": "markdown",
   "id": "a8d75cea",
   "metadata": {},
   "source": [
    "**Final Notes:** We see that our linear model performed almost perfect in estimating the average usage over the test data. High R2 score along with a low percentage error suggest that we built a strong model in terms of both accuracy and generalization capacity."
   ]
  },
  {
   "cell_type": "markdown",
   "id": "00a9f996",
   "metadata": {},
   "source": [
    "# END"
   ]
  }
 ],
 "metadata": {
  "kernelspec": {
   "display_name": "Python 3 (ipykernel)",
   "language": "python",
   "name": "python3"
  },
  "language_info": {
   "codemirror_mode": {
    "name": "ipython",
    "version": 3
   },
   "file_extension": ".py",
   "mimetype": "text/x-python",
   "name": "python",
   "nbconvert_exporter": "python",
   "pygments_lexer": "ipython3",
   "version": "3.7.13"
  }
 },
 "nbformat": 4,
 "nbformat_minor": 5
}
