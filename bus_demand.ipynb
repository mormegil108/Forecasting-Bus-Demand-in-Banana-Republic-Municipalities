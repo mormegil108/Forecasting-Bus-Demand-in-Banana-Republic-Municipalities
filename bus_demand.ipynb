{
 "cells": [
  {
   "cell_type": "markdown",
   "id": "ba69f6cd",
   "metadata": {},
   "source": [
    "# Forecasting Bus Demand in Banana Republic Municipalities\n",
    "### Prepared by: Said Bolluk\n",
    "### E-Mail: said.bolluk@ozu.edu.tr"
   ]
  },
  {
   "cell_type": "code",
   "execution_count": 1,
   "id": "a7283079",
   "metadata": {},
   "outputs": [],
   "source": [
    "import numpy as np\n",
    "import pandas as pd\n",
    "import matplotlib.pyplot as plt\n",
    "import timeit\n",
    "%matplotlib inline"
   ]
  },
  {
   "cell_type": "code",
   "execution_count": 2,
   "id": "adc34dd2",
   "metadata": {},
   "outputs": [],
   "source": [
    "# Display model diagram\n",
    "from sklearn import set_config\n",
    "set_config(display='diagram')"
   ]
  },
  {
   "cell_type": "markdown",
   "id": "442b4001",
   "metadata": {},
   "source": [
    "# 1) Data Preprocessing"
   ]
  },
  {
   "cell_type": "code",
   "execution_count": 3,
   "id": "d4e0976e",
   "metadata": {},
   "outputs": [
    {
     "data": {
      "text/html": [
       "<div>\n",
       "<style scoped>\n",
       "    .dataframe tbody tr th:only-of-type {\n",
       "        vertical-align: middle;\n",
       "    }\n",
       "\n",
       "    .dataframe tbody tr th {\n",
       "        vertical-align: top;\n",
       "    }\n",
       "\n",
       "    .dataframe thead th {\n",
       "        text-align: right;\n",
       "    }\n",
       "</style>\n",
       "<table border=\"1\" class=\"dataframe\">\n",
       "  <thead>\n",
       "    <tr style=\"text-align: right;\">\n",
       "      <th></th>\n",
       "      <th>timestamp</th>\n",
       "      <th>municipality_id</th>\n",
       "      <th>usage</th>\n",
       "      <th>total_capacity</th>\n",
       "    </tr>\n",
       "  </thead>\n",
       "  <tbody>\n",
       "    <tr>\n",
       "      <th>0</th>\n",
       "      <td>2017-06-04 07:59:42</td>\n",
       "      <td>9</td>\n",
       "      <td>454</td>\n",
       "      <td>1332</td>\n",
       "    </tr>\n",
       "    <tr>\n",
       "      <th>1</th>\n",
       "      <td>2017-06-04 07:59:42</td>\n",
       "      <td>8</td>\n",
       "      <td>556</td>\n",
       "      <td>2947</td>\n",
       "    </tr>\n",
       "    <tr>\n",
       "      <th>2</th>\n",
       "      <td>2017-06-04 07:59:42</td>\n",
       "      <td>4</td>\n",
       "      <td>1090</td>\n",
       "      <td>3893</td>\n",
       "    </tr>\n",
       "    <tr>\n",
       "      <th>3</th>\n",
       "      <td>2017-06-04 07:59:42</td>\n",
       "      <td>0</td>\n",
       "      <td>204</td>\n",
       "      <td>2813</td>\n",
       "    </tr>\n",
       "    <tr>\n",
       "      <th>4</th>\n",
       "      <td>2017-06-04 07:59:42</td>\n",
       "      <td>7</td>\n",
       "      <td>718</td>\n",
       "      <td>2019</td>\n",
       "    </tr>\n",
       "  </tbody>\n",
       "</table>\n",
       "</div>"
      ],
      "text/plain": [
       "             timestamp  municipality_id  usage  total_capacity\n",
       "0  2017-06-04 07:59:42                9    454            1332\n",
       "1  2017-06-04 07:59:42                8    556            2947\n",
       "2  2017-06-04 07:59:42                4   1090            3893\n",
       "3  2017-06-04 07:59:42                0    204            2813\n",
       "4  2017-06-04 07:59:42                7    718            2019"
      ]
     },
     "execution_count": 3,
     "metadata": {},
     "output_type": "execute_result"
    }
   ],
   "source": [
    "mydf = pd.read_csv(\"municipality_bus_utilization.csv\")\n",
    "mydf.head()"
   ]
  },
  {
   "cell_type": "markdown",
   "id": "e8ddf150",
   "metadata": {},
   "source": [
    "Transform the \"timestamp\" column into a datatime object:"
   ]
  },
  {
   "cell_type": "code",
   "execution_count": 4,
   "id": "732e97ae",
   "metadata": {},
   "outputs": [],
   "source": [
    "mydf[\"timestamp\"] = pd.to_datetime(mydf[\"timestamp\"])"
   ]
  },
  {
   "cell_type": "code",
   "execution_count": 5,
   "id": "ad3d827b",
   "metadata": {},
   "outputs": [
    {
     "name": "stdout",
     "output_type": "stream",
     "text": [
      "<class 'pandas.core.frame.DataFrame'>\n",
      "RangeIndex: 13070 entries, 0 to 13069\n",
      "Data columns (total 4 columns):\n",
      " #   Column           Non-Null Count  Dtype         \n",
      "---  ------           --------------  -----         \n",
      " 0   timestamp        13070 non-null  datetime64[ns]\n",
      " 1   municipality_id  13070 non-null  int64         \n",
      " 2   usage            13070 non-null  int64         \n",
      " 3   total_capacity   13070 non-null  int64         \n",
      "dtypes: datetime64[ns](1), int64(3)\n",
      "memory usage: 408.6 KB\n"
     ]
    }
   ],
   "source": [
    "mydf.info()"
   ]
  },
  {
   "cell_type": "markdown",
   "id": "679ee37a",
   "metadata": {},
   "source": [
    "Select and save the hour, day, and month info for tHe future calculations:"
   ]
  },
  {
   "cell_type": "code",
   "execution_count": 6,
   "id": "75740132",
   "metadata": {},
   "outputs": [],
   "source": [
    "mydf[\"time_hour\"] = mydf.timestamp.apply(lambda x: x.hour)\n",
    "mydf[\"time_day\"] = mydf.timestamp.apply(lambda x: x.day)\n",
    "mydf[\"time_month\"] = mydf.timestamp.apply(lambda x: x.month)"
   ]
  },
  {
   "cell_type": "code",
   "execution_count": 7,
   "id": "7934ce03",
   "metadata": {},
   "outputs": [
    {
     "data": {
      "text/html": [
       "<div>\n",
       "<style scoped>\n",
       "    .dataframe tbody tr th:only-of-type {\n",
       "        vertical-align: middle;\n",
       "    }\n",
       "\n",
       "    .dataframe tbody tr th {\n",
       "        vertical-align: top;\n",
       "    }\n",
       "\n",
       "    .dataframe thead th {\n",
       "        text-align: right;\n",
       "    }\n",
       "</style>\n",
       "<table border=\"1\" class=\"dataframe\">\n",
       "  <thead>\n",
       "    <tr style=\"text-align: right;\">\n",
       "      <th></th>\n",
       "      <th>timestamp</th>\n",
       "      <th>municipality_id</th>\n",
       "      <th>usage</th>\n",
       "      <th>total_capacity</th>\n",
       "      <th>time_hour</th>\n",
       "      <th>time_day</th>\n",
       "      <th>time_month</th>\n",
       "    </tr>\n",
       "  </thead>\n",
       "  <tbody>\n",
       "    <tr>\n",
       "      <th>0</th>\n",
       "      <td>2017-06-04 07:59:42</td>\n",
       "      <td>9</td>\n",
       "      <td>454</td>\n",
       "      <td>1332</td>\n",
       "      <td>7</td>\n",
       "      <td>4</td>\n",
       "      <td>6</td>\n",
       "    </tr>\n",
       "    <tr>\n",
       "      <th>1</th>\n",
       "      <td>2017-06-04 07:59:42</td>\n",
       "      <td>8</td>\n",
       "      <td>556</td>\n",
       "      <td>2947</td>\n",
       "      <td>7</td>\n",
       "      <td>4</td>\n",
       "      <td>6</td>\n",
       "    </tr>\n",
       "    <tr>\n",
       "      <th>2</th>\n",
       "      <td>2017-06-04 07:59:42</td>\n",
       "      <td>4</td>\n",
       "      <td>1090</td>\n",
       "      <td>3893</td>\n",
       "      <td>7</td>\n",
       "      <td>4</td>\n",
       "      <td>6</td>\n",
       "    </tr>\n",
       "    <tr>\n",
       "      <th>3</th>\n",
       "      <td>2017-06-04 07:59:42</td>\n",
       "      <td>0</td>\n",
       "      <td>204</td>\n",
       "      <td>2813</td>\n",
       "      <td>7</td>\n",
       "      <td>4</td>\n",
       "      <td>6</td>\n",
       "    </tr>\n",
       "    <tr>\n",
       "      <th>4</th>\n",
       "      <td>2017-06-04 07:59:42</td>\n",
       "      <td>7</td>\n",
       "      <td>718</td>\n",
       "      <td>2019</td>\n",
       "      <td>7</td>\n",
       "      <td>4</td>\n",
       "      <td>6</td>\n",
       "    </tr>\n",
       "  </tbody>\n",
       "</table>\n",
       "</div>"
      ],
      "text/plain": [
       "            timestamp  municipality_id  usage  total_capacity  time_hour  \\\n",
       "0 2017-06-04 07:59:42                9    454            1332          7   \n",
       "1 2017-06-04 07:59:42                8    556            2947          7   \n",
       "2 2017-06-04 07:59:42                4   1090            3893          7   \n",
       "3 2017-06-04 07:59:42                0    204            2813          7   \n",
       "4 2017-06-04 07:59:42                7    718            2019          7   \n",
       "\n",
       "   time_day  time_month  \n",
       "0         4           6  \n",
       "1         4           6  \n",
       "2         4           6  \n",
       "3         4           6  \n",
       "4         4           6  "
      ]
     },
     "execution_count": 7,
     "metadata": {},
     "output_type": "execute_result"
    }
   ],
   "source": [
    "mydf.head()"
   ]
  },
  {
   "cell_type": "markdown",
   "id": "7d803562",
   "metadata": {},
   "source": [
    "Dataset contains a single or couple of recordings for each hour. Therefore, I will take the mean of these recordings for each hour."
   ]
  },
  {
   "cell_type": "code",
   "execution_count": 8,
   "id": "808a7a55",
   "metadata": {
    "scrolled": false
   },
   "outputs": [],
   "source": [
    "municipalities = list(range(0, 10))\n",
    "months = [6, 7, 8]\n",
    "\n",
    "empty_frame = pd.DataFrame()\n",
    "\n",
    "for i in municipalities:\n",
    "    \n",
    "    data_muni = mydf[mydf[\"municipality_id\"]==i]\n",
    "    \n",
    "    for j in months:\n",
    "        \n",
    "        data_month = data_muni[data_muni[\"time_month\"]==j]\n",
    "        \n",
    "        day_list = np.sort(data_month[\"time_day\"].value_counts().index.to_list())\n",
    "\n",
    "        for k in day_list:\n",
    "            \n",
    "            data_day = data_month[data_month[\"time_day\"]==k]\n",
    "            \n",
    "            # Group usage per hour by averaging out the recordings in the same hour\n",
    "            aggregate = data_day.groupby(by=\"time_hour\")[\"usage\"].mean().round(2)\n",
    "            \n",
    "            # Define a new data frame to keep recordings per hour\n",
    "            frame = {\n",
    "                \"Municipality\": i,\n",
    "                \"Month\": j,\n",
    "                \"Day\": k,\n",
    "                \"Hour\": aggregate.index, \n",
    "                \"Average Usage\": aggregate.values,\n",
    "            }            \n",
    "            reduced_data = pd.DataFrame(frame)\n",
    "            empty_frame = empty_frame.append(reduced_data, ignore_index=True)"
   ]
  },
  {
   "cell_type": "markdown",
   "id": "ba1a7989",
   "metadata": {},
   "source": [
    "Create a copy of the empty_frame:"
   ]
  },
  {
   "cell_type": "code",
   "execution_count": 9,
   "id": "2310a610",
   "metadata": {},
   "outputs": [],
   "source": [
    "bus_demand = empty_frame.copy()"
   ]
  },
  {
   "cell_type": "markdown",
   "id": "6e025984",
   "metadata": {},
   "source": [
    "## Missing Data Imputation"
   ]
  },
  {
   "cell_type": "markdown",
   "id": "e6ccf697",
   "metadata": {},
   "source": [
    "Note that recordings are kept between the same dates in each municipality. Let us examine the missing days for each month:"
   ]
  },
  {
   "cell_type": "code",
   "execution_count": 10,
   "id": "48bd850d",
   "metadata": {},
   "outputs": [
    {
     "name": "stdout",
     "output_type": "stream",
     "text": [
      "Month-6: [ 4  5  6  7  8  9 10 11 12 13 14 15 16 17 18 19 22 23 24 25 26 27 28 29\n",
      " 30]\n",
      "Total Day: 25\n",
      "\n",
      "Month-7: [ 1  2  3  4  5  6  7  8  9 10 11 12 13 14 15 16 17 18 19 20 21 22 23 24\n",
      " 25 26 27 28 29 30]\n",
      "Total Day: 55\n",
      "\n",
      "Month-8: [ 1  2  5  6  7  8  9 10 11 12 13 14 15 16 17 18 19]\n",
      "Total Day: 72\n",
      "\n"
     ]
    }
   ],
   "source": [
    "months = [6, 7, 8]\n",
    "total_day = 0\n",
    "\n",
    "for i in months:\n",
    "    \n",
    "    day_list = np.sort(empty_frame[empty_frame[\"Month\"]==i][\"Day\"].value_counts().index.to_list())\n",
    "    total_day += len(day_list)\n",
    "    \n",
    "    print(f\"Month-{i}: {day_list}\")\n",
    "    print(f\"Total Day: {total_day}\\n\")"
   ]
  },
  {
   "cell_type": "markdown",
   "id": "e5567d54",
   "metadata": {},
   "source": [
    "There are two missing days (20, 21) for the Month 6, and two missing days (3, 4) for the Month 8. The Month 7 does not contain any missing days. Lut us create a row for with the average use per hour and complete the missing days of each month:"
   ]
  },
  {
   "cell_type": "code",
   "execution_count": 11,
   "id": "e0b65e46",
   "metadata": {
    "scrolled": false
   },
   "outputs": [],
   "source": [
    "municipalities = list(range(0, 10))\n",
    "missing_months = [6, 8]\n",
    "\n",
    "missing_frame = pd.DataFrame()\n",
    "\n",
    "for i in municipalities:\n",
    "    \n",
    "    data_muni = bus_demand[bus_demand[\"Municipality\"]==i]\n",
    "    \n",
    "    for j in missing_months:\n",
    "        \n",
    "        if j==6:\n",
    "            missing_days = [20, 21]\n",
    "        \n",
    "        elif j==8:\n",
    "            missing_days = [3, 4]\n",
    "        \n",
    "        else:\n",
    "            print(\"ERROR!\")\n",
    "            \n",
    "        for k in missing_days:\n",
    "            \n",
    "            grouping = data_muni.groupby(by=\"Hour\")[\"Average Usage\"].mean()\n",
    "            #print(i, j, k, grouping)\n",
    "            frame = {\n",
    "                \"Municipality\": i,\n",
    "                \"Month\": j,\n",
    "                \"Day\": k,\n",
    "                \"Hour\": grouping.index, \n",
    "                \"Average Usage\": grouping.values,\n",
    "            }            \n",
    "            missing_data = pd.DataFrame(frame)\n",
    "            missing_frame = missing_frame.append(missing_data, ignore_index=True)\n",
    "            \n",
    "final_df = pd.concat([bus_demand, missing_frame], axis=0, ignore_index=True)"
   ]
  },
  {
   "cell_type": "code",
   "execution_count": 12,
   "id": "f07665be",
   "metadata": {},
   "outputs": [
    {
     "name": "stdout",
     "output_type": "stream",
     "text": [
      "Missing: (6740, 5)\n",
      "Completed: (7140, 5)\n"
     ]
    }
   ],
   "source": [
    "print(\"Missing:\", bus_demand.shape)\n",
    "print(\"Completed:\", final_df.shape)"
   ]
  },
  {
   "cell_type": "markdown",
   "id": "224647c4",
   "metadata": {},
   "source": [
    "Check if there are any missing days:"
   ]
  },
  {
   "cell_type": "code",
   "execution_count": 13,
   "id": "1bcc106b",
   "metadata": {},
   "outputs": [
    {
     "name": "stdout",
     "output_type": "stream",
     "text": [
      "Month-6: [ 4  5  6  7  8  9 10 11 12 13 14 15 16 17 18 19 20 21 22 23 24 25 26 27\n",
      " 28 29 30]\n",
      "Month-7: [ 1  2  3  4  5  6  7  8  9 10 11 12 13 14 15 16 17 18 19 20 21 22 23 24\n",
      " 25 26 27 28 29 30]\n",
      "Month-8: [ 1  2  3  4  5  6  7  8  9 10 11 12 13 14 15 16 17 18 19]\n"
     ]
    }
   ],
   "source": [
    "months = [6, 7, 8]\n",
    "\n",
    "for i in months:\n",
    "    \n",
    "    day_list = np.sort(final_df[final_df[\"Month\"]==i][\"Day\"].value_counts().index.to_list())\n",
    "    \n",
    "    print(f\"Month-{i}: {day_list}\")"
   ]
  },
  {
   "cell_type": "markdown",
   "id": "9abddc2f",
   "metadata": {},
   "source": [
    "Sort intances by Municipality, Month, Day, and Hour. Reset the index."
   ]
  },
  {
   "cell_type": "code",
   "execution_count": 14,
   "id": "fe827c77",
   "metadata": {},
   "outputs": [],
   "source": [
    "final_df = final_df.sort_values(by=[\"Municipality\", \"Month\", \"Day\", \"Hour\"], ascending = [True, True, True, True])\n",
    "final_df = final_df.reset_index()\n",
    "final_df = final_df.drop(columns=\"index\")"
   ]
  },
  {
   "cell_type": "markdown",
   "id": "20c9e1cd",
   "metadata": {},
   "source": [
    "Combine the date features and present as: Month/Day/Hour"
   ]
  },
  {
   "cell_type": "code",
   "execution_count": 15,
   "id": "0cafeab4",
   "metadata": {},
   "outputs": [],
   "source": [
    "for i in range(final_df.shape[0]):\n",
    "    \n",
    "    m, d, h = final_df.loc[i, \"Month\"], final_df.loc[i, \"Day\"], final_df.loc[i, \"Hour\"]\n",
    "    final_df.loc[i, \"Date\"] = f\"{m}/{d}/{h}\""
   ]
  },
  {
   "cell_type": "markdown",
   "id": "9231ef50",
   "metadata": {},
   "source": [
    "We will sort the final_df according to the month and day columns since the added rows disturbed the order of the original frame. We will then save the dataset to a new CSV file so we can use it quickly in the future:"
   ]
  },
  {
   "cell_type": "code",
   "execution_count": 16,
   "id": "e74c3939",
   "metadata": {},
   "outputs": [
    {
     "data": {
      "text/html": [
       "<div>\n",
       "<style scoped>\n",
       "    .dataframe tbody tr th:only-of-type {\n",
       "        vertical-align: middle;\n",
       "    }\n",
       "\n",
       "    .dataframe tbody tr th {\n",
       "        vertical-align: top;\n",
       "    }\n",
       "\n",
       "    .dataframe thead th {\n",
       "        text-align: right;\n",
       "    }\n",
       "</style>\n",
       "<table border=\"1\" class=\"dataframe\">\n",
       "  <thead>\n",
       "    <tr style=\"text-align: right;\">\n",
       "      <th></th>\n",
       "      <th>Municipality</th>\n",
       "      <th>Month</th>\n",
       "      <th>Day</th>\n",
       "      <th>Hour</th>\n",
       "      <th>Average Usage</th>\n",
       "      <th>Date</th>\n",
       "    </tr>\n",
       "  </thead>\n",
       "  <tbody>\n",
       "    <tr>\n",
       "      <th>0</th>\n",
       "      <td>0</td>\n",
       "      <td>6</td>\n",
       "      <td>4</td>\n",
       "      <td>7</td>\n",
       "      <td>204.0</td>\n",
       "      <td>6/4/7</td>\n",
       "    </tr>\n",
       "    <tr>\n",
       "      <th>1</th>\n",
       "      <td>0</td>\n",
       "      <td>6</td>\n",
       "      <td>4</td>\n",
       "      <td>8</td>\n",
       "      <td>289.5</td>\n",
       "      <td>6/4/8</td>\n",
       "    </tr>\n",
       "    <tr>\n",
       "      <th>2</th>\n",
       "      <td>0</td>\n",
       "      <td>6</td>\n",
       "      <td>4</td>\n",
       "      <td>9</td>\n",
       "      <td>457.0</td>\n",
       "      <td>6/4/9</td>\n",
       "    </tr>\n",
       "    <tr>\n",
       "      <th>3</th>\n",
       "      <td>0</td>\n",
       "      <td>6</td>\n",
       "      <td>4</td>\n",
       "      <td>10</td>\n",
       "      <td>558.5</td>\n",
       "      <td>6/4/10</td>\n",
       "    </tr>\n",
       "    <tr>\n",
       "      <th>4</th>\n",
       "      <td>0</td>\n",
       "      <td>6</td>\n",
       "      <td>4</td>\n",
       "      <td>11</td>\n",
       "      <td>605.5</td>\n",
       "      <td>6/4/11</td>\n",
       "    </tr>\n",
       "    <tr>\n",
       "      <th>...</th>\n",
       "      <td>...</td>\n",
       "      <td>...</td>\n",
       "      <td>...</td>\n",
       "      <td>...</td>\n",
       "      <td>...</td>\n",
       "      <td>...</td>\n",
       "    </tr>\n",
       "    <tr>\n",
       "      <th>7135</th>\n",
       "      <td>9</td>\n",
       "      <td>8</td>\n",
       "      <td>19</td>\n",
       "      <td>12</td>\n",
       "      <td>825.0</td>\n",
       "      <td>8/19/12</td>\n",
       "    </tr>\n",
       "    <tr>\n",
       "      <th>7136</th>\n",
       "      <td>9</td>\n",
       "      <td>8</td>\n",
       "      <td>19</td>\n",
       "      <td>13</td>\n",
       "      <td>918.5</td>\n",
       "      <td>8/19/13</td>\n",
       "    </tr>\n",
       "    <tr>\n",
       "      <th>7137</th>\n",
       "      <td>9</td>\n",
       "      <td>8</td>\n",
       "      <td>19</td>\n",
       "      <td>14</td>\n",
       "      <td>981.0</td>\n",
       "      <td>8/19/14</td>\n",
       "    </tr>\n",
       "    <tr>\n",
       "      <th>7138</th>\n",
       "      <td>9</td>\n",
       "      <td>8</td>\n",
       "      <td>19</td>\n",
       "      <td>15</td>\n",
       "      <td>965.0</td>\n",
       "      <td>8/19/15</td>\n",
       "    </tr>\n",
       "    <tr>\n",
       "      <th>7139</th>\n",
       "      <td>9</td>\n",
       "      <td>8</td>\n",
       "      <td>19</td>\n",
       "      <td>16</td>\n",
       "      <td>847.0</td>\n",
       "      <td>8/19/16</td>\n",
       "    </tr>\n",
       "  </tbody>\n",
       "</table>\n",
       "<p>7140 rows × 6 columns</p>\n",
       "</div>"
      ],
      "text/plain": [
       "      Municipality  Month  Day  Hour  Average Usage     Date\n",
       "0                0      6    4     7          204.0    6/4/7\n",
       "1                0      6    4     8          289.5    6/4/8\n",
       "2                0      6    4     9          457.0    6/4/9\n",
       "3                0      6    4    10          558.5   6/4/10\n",
       "4                0      6    4    11          605.5   6/4/11\n",
       "...            ...    ...  ...   ...            ...      ...\n",
       "7135             9      8   19    12          825.0  8/19/12\n",
       "7136             9      8   19    13          918.5  8/19/13\n",
       "7137             9      8   19    14          981.0  8/19/14\n",
       "7138             9      8   19    15          965.0  8/19/15\n",
       "7139             9      8   19    16          847.0  8/19/16\n",
       "\n",
       "[7140 rows x 6 columns]"
      ]
     },
     "execution_count": 16,
     "metadata": {},
     "output_type": "execute_result"
    }
   ],
   "source": [
    "final_df"
   ]
  },
  {
   "cell_type": "code",
   "execution_count": 17,
   "id": "58faa5a6",
   "metadata": {},
   "outputs": [],
   "source": [
    "# Sort values\n",
    "final_df = final_df.sort_values(by=[\"Municipality\", \"Month\", \"Day\", \"Hour\"], ascending = [True, True, True, True])\n",
    "\n",
    "# Re-order columns and round values\n",
    "final_df = final_df[['Date', 'Month', 'Day', 'Hour', 'Municipality','Average Usage']].round(2)\n",
    "\n",
    "# Save the dataset\n",
    "final_df.to_csv(\"ready_data.csv\", index=False)"
   ]
  },
  {
   "cell_type": "code",
   "execution_count": 18,
   "id": "678cad53",
   "metadata": {},
   "outputs": [
    {
     "data": {
      "text/html": [
       "<div>\n",
       "<style scoped>\n",
       "    .dataframe tbody tr th:only-of-type {\n",
       "        vertical-align: middle;\n",
       "    }\n",
       "\n",
       "    .dataframe tbody tr th {\n",
       "        vertical-align: top;\n",
       "    }\n",
       "\n",
       "    .dataframe thead th {\n",
       "        text-align: right;\n",
       "    }\n",
       "</style>\n",
       "<table border=\"1\" class=\"dataframe\">\n",
       "  <thead>\n",
       "    <tr style=\"text-align: right;\">\n",
       "      <th></th>\n",
       "      <th>Date</th>\n",
       "      <th>Month</th>\n",
       "      <th>Day</th>\n",
       "      <th>Hour</th>\n",
       "      <th>Municipality</th>\n",
       "      <th>Average Usage</th>\n",
       "    </tr>\n",
       "  </thead>\n",
       "  <tbody>\n",
       "    <tr>\n",
       "      <th>1342</th>\n",
       "      <td>8/10/15</td>\n",
       "      <td>8</td>\n",
       "      <td>10</td>\n",
       "      <td>15</td>\n",
       "      <td>1</td>\n",
       "      <td>410.33</td>\n",
       "    </tr>\n",
       "    <tr>\n",
       "      <th>6927</th>\n",
       "      <td>7/27/13</td>\n",
       "      <td>7</td>\n",
       "      <td>27</td>\n",
       "      <td>13</td>\n",
       "      <td>9</td>\n",
       "      <td>922.50</td>\n",
       "    </tr>\n",
       "    <tr>\n",
       "      <th>5402</th>\n",
       "      <td>7/17/8</td>\n",
       "      <td>7</td>\n",
       "      <td>17</td>\n",
       "      <td>8</td>\n",
       "      <td>7</td>\n",
       "      <td>685.50</td>\n",
       "    </tr>\n",
       "    <tr>\n",
       "      <th>2699</th>\n",
       "      <td>8/3/12</td>\n",
       "      <td>8</td>\n",
       "      <td>3</td>\n",
       "      <td>12</td>\n",
       "      <td>3</td>\n",
       "      <td>1256.75</td>\n",
       "    </tr>\n",
       "    <tr>\n",
       "      <th>2661</th>\n",
       "      <td>7/29/12</td>\n",
       "      <td>7</td>\n",
       "      <td>29</td>\n",
       "      <td>12</td>\n",
       "      <td>3</td>\n",
       "      <td>1621.00</td>\n",
       "    </tr>\n",
       "    <tr>\n",
       "      <th>5122</th>\n",
       "      <td>6/17/10</td>\n",
       "      <td>6</td>\n",
       "      <td>17</td>\n",
       "      <td>10</td>\n",
       "      <td>7</td>\n",
       "      <td>1035.00</td>\n",
       "    </tr>\n",
       "    <tr>\n",
       "      <th>2696</th>\n",
       "      <td>8/3/9</td>\n",
       "      <td>8</td>\n",
       "      <td>3</td>\n",
       "      <td>9</td>\n",
       "      <td>3</td>\n",
       "      <td>899.01</td>\n",
       "    </tr>\n",
       "    <tr>\n",
       "      <th>1789</th>\n",
       "      <td>7/12/11</td>\n",
       "      <td>7</td>\n",
       "      <td>12</td>\n",
       "      <td>11</td>\n",
       "      <td>2</td>\n",
       "      <td>381.00</td>\n",
       "    </tr>\n",
       "    <tr>\n",
       "      <th>6362</th>\n",
       "      <td>8/13/10</td>\n",
       "      <td>8</td>\n",
       "      <td>13</td>\n",
       "      <td>10</td>\n",
       "      <td>8</td>\n",
       "      <td>1233.00</td>\n",
       "    </tr>\n",
       "    <tr>\n",
       "      <th>1539</th>\n",
       "      <td>6/15/15</td>\n",
       "      <td>6</td>\n",
       "      <td>15</td>\n",
       "      <td>15</td>\n",
       "      <td>2</td>\n",
       "      <td>501.00</td>\n",
       "    </tr>\n",
       "  </tbody>\n",
       "</table>\n",
       "</div>"
      ],
      "text/plain": [
       "         Date  Month  Day  Hour  Municipality  Average Usage\n",
       "1342  8/10/15      8   10    15             1         410.33\n",
       "6927  7/27/13      7   27    13             9         922.50\n",
       "5402   7/17/8      7   17     8             7         685.50\n",
       "2699   8/3/12      8    3    12             3        1256.75\n",
       "2661  7/29/12      7   29    12             3        1621.00\n",
       "5122  6/17/10      6   17    10             7        1035.00\n",
       "2696    8/3/9      8    3     9             3         899.01\n",
       "1789  7/12/11      7   12    11             2         381.00\n",
       "6362  8/13/10      8   13    10             8        1233.00\n",
       "1539  6/15/15      6   15    15             2         501.00"
      ]
     },
     "execution_count": 18,
     "metadata": {},
     "output_type": "execute_result"
    }
   ],
   "source": [
    "final_df.sample(10)"
   ]
  },
  {
   "cell_type": "markdown",
   "id": "ed0f3f2f",
   "metadata": {},
   "source": [
    "Observe the average correlation between the target and features using the Pearson correlation method:"
   ]
  },
  {
   "cell_type": "code",
   "execution_count": 19,
   "id": "5503e1f3",
   "metadata": {
    "scrolled": true
   },
   "outputs": [
    {
     "data": {
      "text/html": [
       "<div>\n",
       "<style scoped>\n",
       "    .dataframe tbody tr th:only-of-type {\n",
       "        vertical-align: middle;\n",
       "    }\n",
       "\n",
       "    .dataframe tbody tr th {\n",
       "        vertical-align: top;\n",
       "    }\n",
       "\n",
       "    .dataframe thead th {\n",
       "        text-align: right;\n",
       "    }\n",
       "</style>\n",
       "<table border=\"1\" class=\"dataframe\">\n",
       "  <thead>\n",
       "    <tr style=\"text-align: right;\">\n",
       "      <th></th>\n",
       "      <th>Features</th>\n",
       "      <th>Average Correlation (absolute)</th>\n",
       "    </tr>\n",
       "  </thead>\n",
       "  <tbody>\n",
       "    <tr>\n",
       "      <th>0</th>\n",
       "      <td>Month</td>\n",
       "      <td>0.129301</td>\n",
       "    </tr>\n",
       "    <tr>\n",
       "      <th>1</th>\n",
       "      <td>Day</td>\n",
       "      <td>0.104097</td>\n",
       "    </tr>\n",
       "    <tr>\n",
       "      <th>2</th>\n",
       "      <td>Hour</td>\n",
       "      <td>0.546100</td>\n",
       "    </tr>\n",
       "  </tbody>\n",
       "</table>\n",
       "</div>"
      ],
      "text/plain": [
       "  Features  Average Correlation (absolute)\n",
       "0    Month                        0.129301\n",
       "1      Day                        0.104097\n",
       "2     Hour                        0.546100"
      ]
     },
     "execution_count": 19,
     "metadata": {},
     "output_type": "execute_result"
    }
   ],
   "source": [
    "sum_array = np.zeros(3,)\n",
    "for i in range(0, 10):\n",
    "    \n",
    "    correlation = final_df[final_df[\"Municipality\"]==i].corr(method=\"pearson\")[\"Average Usage\"][0:3]\n",
    "    sum_array = np.sum([sum_array, np.abs(correlation.values)], axis=0)\n",
    "    \n",
    "frame = {\n",
    "    \"Features\": correlation.index.to_list(),\n",
    "    \"Average Correlation (absolute)\": sum_array / 10,\n",
    "}\n",
    "\n",
    "corr_df = pd.DataFrame(frame)\n",
    "corr_df"
   ]
  },
  {
   "cell_type": "markdown",
   "id": "420ec31b",
   "metadata": {},
   "source": [
    "# 2) Model Training"
   ]
  },
  {
   "cell_type": "code",
   "execution_count": 20,
   "id": "42a59fb5",
   "metadata": {},
   "outputs": [],
   "source": [
    "data = pd.read_csv(\"ready_data.csv\")"
   ]
  },
  {
   "cell_type": "code",
   "execution_count": 21,
   "id": "7bafa4e2",
   "metadata": {},
   "outputs": [
    {
     "data": {
      "text/html": [
       "<div>\n",
       "<style scoped>\n",
       "    .dataframe tbody tr th:only-of-type {\n",
       "        vertical-align: middle;\n",
       "    }\n",
       "\n",
       "    .dataframe tbody tr th {\n",
       "        vertical-align: top;\n",
       "    }\n",
       "\n",
       "    .dataframe thead th {\n",
       "        text-align: right;\n",
       "    }\n",
       "</style>\n",
       "<table border=\"1\" class=\"dataframe\">\n",
       "  <thead>\n",
       "    <tr style=\"text-align: right;\">\n",
       "      <th></th>\n",
       "      <th>Date</th>\n",
       "      <th>Month</th>\n",
       "      <th>Day</th>\n",
       "      <th>Hour</th>\n",
       "      <th>Municipality</th>\n",
       "      <th>Average Usage</th>\n",
       "    </tr>\n",
       "  </thead>\n",
       "  <tbody>\n",
       "    <tr>\n",
       "      <th>0</th>\n",
       "      <td>6/4/7</td>\n",
       "      <td>6</td>\n",
       "      <td>4</td>\n",
       "      <td>7</td>\n",
       "      <td>0</td>\n",
       "      <td>204.0</td>\n",
       "    </tr>\n",
       "    <tr>\n",
       "      <th>1</th>\n",
       "      <td>6/4/8</td>\n",
       "      <td>6</td>\n",
       "      <td>4</td>\n",
       "      <td>8</td>\n",
       "      <td>0</td>\n",
       "      <td>289.5</td>\n",
       "    </tr>\n",
       "    <tr>\n",
       "      <th>2</th>\n",
       "      <td>6/4/9</td>\n",
       "      <td>6</td>\n",
       "      <td>4</td>\n",
       "      <td>9</td>\n",
       "      <td>0</td>\n",
       "      <td>457.0</td>\n",
       "    </tr>\n",
       "    <tr>\n",
       "      <th>3</th>\n",
       "      <td>6/4/10</td>\n",
       "      <td>6</td>\n",
       "      <td>4</td>\n",
       "      <td>10</td>\n",
       "      <td>0</td>\n",
       "      <td>558.5</td>\n",
       "    </tr>\n",
       "    <tr>\n",
       "      <th>4</th>\n",
       "      <td>6/4/11</td>\n",
       "      <td>6</td>\n",
       "      <td>4</td>\n",
       "      <td>11</td>\n",
       "      <td>0</td>\n",
       "      <td>605.5</td>\n",
       "    </tr>\n",
       "  </tbody>\n",
       "</table>\n",
       "</div>"
      ],
      "text/plain": [
       "     Date  Month  Day  Hour  Municipality  Average Usage\n",
       "0   6/4/7      6    4     7             0          204.0\n",
       "1   6/4/8      6    4     8             0          289.5\n",
       "2   6/4/9      6    4     9             0          457.0\n",
       "3  6/4/10      6    4    10             0          558.5\n",
       "4  6/4/11      6    4    11             0          605.5"
      ]
     },
     "execution_count": 21,
     "metadata": {},
     "output_type": "execute_result"
    }
   ],
   "source": [
    "data.head()"
   ]
  },
  {
   "cell_type": "markdown",
   "id": "7ecf1219",
   "metadata": {},
   "source": [
    "Display the columns of the dataset:"
   ]
  },
  {
   "cell_type": "code",
   "execution_count": 22,
   "id": "7e2cbc16",
   "metadata": {},
   "outputs": [
    {
     "data": {
      "text/plain": [
       "['Date', 'Month', 'Day', 'Hour', 'Municipality', 'Average Usage']"
      ]
     },
     "execution_count": 22,
     "metadata": {},
     "output_type": "execute_result"
    }
   ],
   "source": [
    "data.columns.to_list()"
   ]
  },
  {
   "cell_type": "markdown",
   "id": "0ed33a3f",
   "metadata": {},
   "source": [
    "Define a dataset named bus_demand using a set of columns:"
   ]
  },
  {
   "cell_type": "code",
   "execution_count": 23,
   "id": "03a4eb2e",
   "metadata": {},
   "outputs": [
    {
     "data": {
      "text/html": [
       "<div>\n",
       "<style scoped>\n",
       "    .dataframe tbody tr th:only-of-type {\n",
       "        vertical-align: middle;\n",
       "    }\n",
       "\n",
       "    .dataframe tbody tr th {\n",
       "        vertical-align: top;\n",
       "    }\n",
       "\n",
       "    .dataframe thead th {\n",
       "        text-align: right;\n",
       "    }\n",
       "</style>\n",
       "<table border=\"1\" class=\"dataframe\">\n",
       "  <thead>\n",
       "    <tr style=\"text-align: right;\">\n",
       "      <th></th>\n",
       "      <th>Month</th>\n",
       "      <th>Day</th>\n",
       "      <th>Hour</th>\n",
       "      <th>Municipality</th>\n",
       "      <th>Average Usage</th>\n",
       "    </tr>\n",
       "  </thead>\n",
       "  <tbody>\n",
       "    <tr>\n",
       "      <th>0</th>\n",
       "      <td>6</td>\n",
       "      <td>4</td>\n",
       "      <td>7</td>\n",
       "      <td>0</td>\n",
       "      <td>204.0</td>\n",
       "    </tr>\n",
       "    <tr>\n",
       "      <th>1</th>\n",
       "      <td>6</td>\n",
       "      <td>4</td>\n",
       "      <td>8</td>\n",
       "      <td>0</td>\n",
       "      <td>289.5</td>\n",
       "    </tr>\n",
       "    <tr>\n",
       "      <th>2</th>\n",
       "      <td>6</td>\n",
       "      <td>4</td>\n",
       "      <td>9</td>\n",
       "      <td>0</td>\n",
       "      <td>457.0</td>\n",
       "    </tr>\n",
       "    <tr>\n",
       "      <th>3</th>\n",
       "      <td>6</td>\n",
       "      <td>4</td>\n",
       "      <td>10</td>\n",
       "      <td>0</td>\n",
       "      <td>558.5</td>\n",
       "    </tr>\n",
       "    <tr>\n",
       "      <th>4</th>\n",
       "      <td>6</td>\n",
       "      <td>4</td>\n",
       "      <td>11</td>\n",
       "      <td>0</td>\n",
       "      <td>605.5</td>\n",
       "    </tr>\n",
       "  </tbody>\n",
       "</table>\n",
       "</div>"
      ],
      "text/plain": [
       "   Month  Day  Hour  Municipality  Average Usage\n",
       "0      6    4     7             0          204.0\n",
       "1      6    4     8             0          289.5\n",
       "2      6    4     9             0          457.0\n",
       "3      6    4    10             0          558.5\n",
       "4      6    4    11             0          605.5"
      ]
     },
     "execution_count": 23,
     "metadata": {},
     "output_type": "execute_result"
    }
   ],
   "source": [
    "bus_demand = data[['Month', 'Day', 'Hour', 'Municipality', 'Average Usage']]\n",
    "bus_demand.head()"
   ]
  },
  {
   "cell_type": "markdown",
   "id": "b2838e6d",
   "metadata": {},
   "source": [
    "Try different regressors and gather the results under the report_df:"
   ]
  },
  {
   "cell_type": "code",
   "execution_count": 24,
   "id": "7b4ee2ad",
   "metadata": {},
   "outputs": [],
   "source": [
    "report_df = pd.DataFrame()"
   ]
  },
  {
   "cell_type": "markdown",
   "id": "bdee7015",
   "metadata": {},
   "source": [
    "Import necessary libraries for machine learning models and regression evaluation metrics to perform time series regression over the bus_demand data:"
   ]
  },
  {
   "cell_type": "code",
   "execution_count": 25,
   "id": "5ea8dc2b",
   "metadata": {},
   "outputs": [],
   "source": [
    "from sklearn.linear_model import LinearRegression\n",
    "from sklearn.ensemble import RandomForestRegressor, GradientBoostingRegressor\n",
    "from sklearn.metrics import r2_score, mean_absolute_percentage_error, mean_squared_error"
   ]
  },
  {
   "cell_type": "markdown",
   "id": "2cab2954",
   "metadata": {},
   "source": [
    "## 2.1. Linear Regression"
   ]
  },
  {
   "cell_type": "code",
   "execution_count": 26,
   "id": "90e0c346",
   "metadata": {},
   "outputs": [],
   "source": [
    "# Define a regression model\n",
    "linear = LinearRegression()"
   ]
  },
  {
   "cell_type": "code",
   "execution_count": 27,
   "id": "ebb8b3e9",
   "metadata": {},
   "outputs": [],
   "source": [
    "r2_list = list()\n",
    "mape_list = list()\n",
    "\n",
    "for muni_id in range(0, 10):\n",
    "    \n",
    "    # Train and test split as last two weeks of each municipality are for testing purposes\n",
    "    mapping_data = bus_demand[bus_demand[\"Municipality\"]==muni_id].drop(columns=[\"Municipality\"])\n",
    "    test_mapping = (mapping_data[\"Month\"]==8) & (mapping_data[\"Day\"]>=4)\n",
    "    \n",
    "    training_set = mapping_data[~test_mapping]\n",
    "    y_train = training_set[\"Average Usage\"]\n",
    "    X_train = training_set.drop(columns=[\"Average Usage\"])    \n",
    "    \n",
    "    test_set = mapping_data[test_mapping]\n",
    "    y_test = test_set[\"Average Usage\"]\n",
    "    X_test = test_set.drop(columns=[\"Average Usage\"])\n",
    "    \n",
    "    # Train the model\n",
    "    linear.fit(X_train, y_train)\n",
    "    # Make predictions\n",
    "    preds = linear.predict(X_test)\n",
    "    \n",
    "    r2 = r2_score(y_test, preds)\n",
    "    r2_list.append(r2)\n",
    "    mape = mean_absolute_percentage_error(y_test, preds)\n",
    "    mape_list.append(mape)\n",
    "    \n",
    "# Calculate the mean score using metrics from each municipality\n",
    "mean_r2 = np.mean(r2_list).round(4)\n",
    "mean_mape = np.mean(mape_list).round(4)\n",
    "\n",
    "lr_result = {\n",
    "    \"Model\": \"Linear Regression\",\n",
    "    \"R2\": mean_r2,\n",
    "    \"MAPE\": mean_mape,\n",
    "}\n",
    "\n",
    "report_df = report_df.append(lr_result, ignore_index=True, sort=True)"
   ]
  },
  {
   "cell_type": "markdown",
   "id": "022d286f",
   "metadata": {},
   "source": [
    "## 2.2. Random Forest Regressor"
   ]
  },
  {
   "cell_type": "markdown",
   "id": "713254d6",
   "metadata": {},
   "source": [
    "This time we will perform a basic hyperparameter tuning for the forest model. We will analyze different tree depths and try to determine the optimal one that provides the least mean percentage error and the highest R2 Score."
   ]
  },
  {
   "cell_type": "code",
   "execution_count": 28,
   "id": "0ba6e34d",
   "metadata": {},
   "outputs": [],
   "source": [
    "depth_list = np.arange(1, 11)\n",
    "\n",
    "overall_mape = list()\n",
    "overall_r2 = list()\n",
    "\n",
    "for depth in depth_list:\n",
    "    \n",
    "    # Define a regression model\n",
    "    forest = RandomForestRegressor(\n",
    "        max_depth=depth,\n",
    "        random_state=42,\n",
    "    )\n",
    "\n",
    "    r2_list = list()\n",
    "    mape_list = list()\n",
    "\n",
    "    for muni_id in range(0, 10):\n",
    "\n",
    "        # Train and test split as last two weeks of each municipality are for testing purposes\n",
    "        mapping_data = bus_demand[bus_demand[\"Municipality\"]==muni_id].drop(columns=[\"Municipality\"])\n",
    "        test_mapping = (mapping_data[\"Month\"]==8) & (mapping_data[\"Day\"]>=4)\n",
    "\n",
    "        training_set = mapping_data[~test_mapping]\n",
    "        y_train = training_set[\"Average Usage\"]\n",
    "        X_train = training_set.drop(columns=[\"Average Usage\"])\n",
    "\n",
    "        test_set = mapping_data[test_mapping]\n",
    "        y_test = test_set[\"Average Usage\"]\n",
    "        X_test = test_set.drop(columns=[\"Average Usage\"])\n",
    "\n",
    "        # Train the model\n",
    "        forest.fit(X_train, y_train)\n",
    "        # Make predictions\n",
    "        preds = forest.predict(X_test)\n",
    "\n",
    "        r2 = r2_score(y_test, preds)\n",
    "        r2_list.append(r2)\n",
    "        mape = mean_absolute_percentage_error(y_test, preds)\n",
    "        mape_list.append(mape)\n",
    "    \n",
    "    # Calculate the mean score using metrics from each municipality\n",
    "    mean_r2 = np.mean(r2_list).round(4)\n",
    "    mean_mape = np.mean(mape_list).round(4)\n",
    "    \n",
    "    # Save the average R2 Score and MAPE for a maximum tree depth:\n",
    "    overall_r2.append(mean_r2)\n",
    "    overall_mape.append(mean_mape)"
   ]
  },
  {
   "cell_type": "markdown",
   "id": "d859b8c6",
   "metadata": {},
   "source": [
    "Use a validation curve that helps us observe the trade-off between bias (MAPE) and variance (R2) and determine the optimal tree depth."
   ]
  },
  {
   "cell_type": "code",
   "execution_count": 29,
   "id": "51e655a1",
   "metadata": {},
   "outputs": [
    {
     "data": {
      "image/png": "[encoded data removed]",
      "text/plain": [
       "<Figure size 576x432 with 1 Axes>"
      ]
     },
     "metadata": {
      "needs_background": "light"
     },
     "output_type": "display_data"
    }
   ],
   "source": [
    "plt.figure(figsize=(8, 6))\n",
    "plt.plot(depth_list, overall_r2, label=\"R2 Score\")\n",
    "plt.plot(depth_list, overall_mape, label=\"MAPE\")\n",
    "plt.xticks(depth_list)\n",
    "plt.xlabel(\"Maximum tree depth\")\n",
    "plt.legend()\n",
    "plt.show()"
   ]
  },
  {
   "cell_type": "markdown",
   "id": "d26ab16d",
   "metadata": {},
   "source": [
    "From the validation curve above, we can see that the optimal tree depth is **four (4)**. After this point, the result improvement slows down. We will now use this parameter value to train the Random Forest Regressor."
   ]
  },
  {
   "cell_type": "code",
   "execution_count": 30,
   "id": "2814428f",
   "metadata": {},
   "outputs": [],
   "source": [
    "# Define a regression model\n",
    "forest = RandomForestRegressor(\n",
    "    max_depth=4,\n",
    "    random_state=42,\n",
    ")"
   ]
  },
  {
   "cell_type": "code",
   "execution_count": 31,
   "id": "01edfff1",
   "metadata": {},
   "outputs": [],
   "source": [
    "r2_list = list()\n",
    "mape_list = list()\n",
    "\n",
    "for muni_id in range(0, 10):\n",
    "    \n",
    "    # Train and test split as last two weeks of each municipality are for testing purposes\n",
    "    mapping_data = bus_demand[bus_demand[\"Municipality\"]==muni_id].drop(columns=[\"Municipality\"])\n",
    "    test_mapping = (mapping_data[\"Month\"]==8) & (mapping_data[\"Day\"]>=4)\n",
    "    \n",
    "    training_set = mapping_data[~test_mapping]\n",
    "    y_train = training_set[\"Average Usage\"]\n",
    "    X_train = training_set.drop(columns=[\"Average Usage\"])\n",
    "    \n",
    "    test_set = mapping_data[test_mapping]\n",
    "    y_test = test_set[\"Average Usage\"]\n",
    "    X_test = test_set.drop(columns=[\"Average Usage\"])\n",
    "    \n",
    "    # Train the model\n",
    "    forest.fit(X_train, y_train)\n",
    "    # Make predictions\n",
    "    preds = forest.predict(X_test)\n",
    "    \n",
    "    r2 = r2_score(y_test, preds)\n",
    "    r2_list.append(r2)\n",
    "    mape = mean_absolute_percentage_error(y_test, preds)\n",
    "    mape_list.append(mape)\n",
    "    \n",
    "# Calculate the mean score using metrics from each municipality\n",
    "mean_r2 = np.mean(r2_list).round(4)\n",
    "mean_mape = np.mean(mape_list).round(4)\n",
    "\n",
    "forest_result = {\n",
    "    \"Model\": \"Random Forest Regressor\",\n",
    "    \"R2\": mean_r2,\n",
    "    \"MAPE\": mean_mape,\n",
    "}\n",
    "\n",
    "report_df = report_df.append(forest_result, ignore_index=True, sort=True)"
   ]
  },
  {
   "cell_type": "markdown",
   "id": "58f6a16f",
   "metadata": {},
   "source": [
    "## 2.3. Gradient Boosting Regressor"
   ]
  },
  {
   "cell_type": "markdown",
   "id": "60961c61",
   "metadata": {},
   "source": [
    "This time we will perform a relatively extensive hyperparameter tuning using more than one hyperparameter."
   ]
  },
  {
   "cell_type": "code",
   "execution_count": 32,
   "id": "e4295154",
   "metadata": {},
   "outputs": [],
   "source": [
    "from sklearn.model_selection import GridSearchCV"
   ]
  },
  {
   "cell_type": "code",
   "execution_count": 33,
   "id": "02e04a51",
   "metadata": {},
   "outputs": [
    {
     "data": {
      "text/plain": [
       "{'alpha': 0.9,\n",
       " 'ccp_alpha': 0.0,\n",
       " 'criterion': 'friedman_mse',\n",
       " 'init': None,\n",
       " 'learning_rate': 0.1,\n",
       " 'loss': 'squared_error',\n",
       " 'max_depth': 3,\n",
       " 'max_features': None,\n",
       " 'max_leaf_nodes': None,\n",
       " 'min_impurity_decrease': 0.0,\n",
       " 'min_samples_leaf': 1,\n",
       " 'min_samples_split': 2,\n",
       " 'min_weight_fraction_leaf': 0.0,\n",
       " 'n_estimators': 100,\n",
       " 'n_iter_no_change': None,\n",
       " 'random_state': None,\n",
       " 'subsample': 1.0,\n",
       " 'tol': 0.0001,\n",
       " 'validation_fraction': 0.1,\n",
       " 'verbose': 0,\n",
       " 'warm_start': False}"
      ]
     },
     "execution_count": 33,
     "metadata": {},
     "output_type": "execute_result"
    }
   ],
   "source": [
    "GradientBoostingRegressor().get_params()"
   ]
  },
  {
   "cell_type": "markdown",
   "id": "c1c59e5e",
   "metadata": {},
   "source": [
    "Select a random municipality for simplicity:"
   ]
  },
  {
   "cell_type": "code",
   "execution_count": 34,
   "id": "b2f5d23a",
   "metadata": {},
   "outputs": [],
   "source": [
    "random_muni = 5"
   ]
  },
  {
   "cell_type": "markdown",
   "id": "bce90060",
   "metadata": {},
   "source": [
    "Perform hyperparameter tuning and calculate the run time:"
   ]
  },
  {
   "cell_type": "code",
   "execution_count": 35,
   "id": "3a4aaa4b",
   "metadata": {},
   "outputs": [
    {
     "name": "stdout",
     "output_type": "stream",
     "text": [
      "Fitting 5 folds for each of 880 candidates, totalling 4400 fits\n"
     ]
    }
   ],
   "source": [
    "training_set = bus_demand[bus_demand[\"Municipality\"]==random_muni].drop(columns=[\"Municipality\"])\n",
    "y_train = training_set[\"Average Usage\"]\n",
    "X_train = training_set.drop(columns=[\"Average Usage\"])\n",
    "\n",
    "# Initiate a regression model\n",
    "gradient = GradientBoostingRegressor(random_state=42)\n",
    "\n",
    "grid_params = {\n",
    "    \"loss\": [\"squared_error\", \"absolute_error\", \"huber\", \"quantile\"],\n",
    "    \"criterion\": [\"friedman_mse\", \"squared_error\"],\n",
    "    \"learning_rate\": np.arange(1, 110, 10)* 1e-3,\n",
    "    \"max_depth\": np.arange(1, 11),    \n",
    "}\n",
    "\n",
    "grid_search = GridSearchCV(gradient, grid_params, verbose=1, cv=5, n_jobs=-1)\n",
    "\n",
    "start = timeit.default_timer()\n",
    "\n",
    "grid_search.fit(X_train, y_train)\n",
    "\n",
    "stop = timeit.default_timer()\n",
    "run_time = stop - start"
   ]
  },
  {
   "cell_type": "markdown",
   "id": "6a9d6d9c",
   "metadata": {},
   "source": [
    "Display the run time for the grid search:"
   ]
  },
  {
   "cell_type": "code",
   "execution_count": 36,
   "id": "543cc1e6",
   "metadata": {},
   "outputs": [
    {
     "name": "stdout",
     "output_type": "stream",
     "text": [
      "Run time (min): 15.56\n"
     ]
    }
   ],
   "source": [
    "print(f\"Run time (min): {(run_time/60):.2f}\")"
   ]
  },
  {
   "cell_type": "markdown",
   "id": "3d30074e",
   "metadata": {},
   "source": [
    "According to the results of GridSearch, the best score and the optimal estimation parameters are:"
   ]
  },
  {
   "cell_type": "code",
   "execution_count": 37,
   "id": "261a4a33",
   "metadata": {},
   "outputs": [
    {
     "name": "stdout",
     "output_type": "stream",
     "text": [
      "Best Score: 0.5174\n",
      "Optimal parameter combination:\n",
      " GradientBoostingRegressor(learning_rate=0.031, max_depth=2, random_state=42)\n"
     ]
    }
   ],
   "source": [
    "print(f\"Best Score: {grid_search.best_score_:.4f}\")\n",
    "print(\"Optimal parameter combination:\\n\", grid_search.best_estimator_)"
   ]
  },
  {
   "cell_type": "markdown",
   "id": "7ea59f61",
   "metadata": {},
   "source": [
    "Let us now train a regression model using the optimal setting obtained from grid search:"
   ]
  },
  {
   "cell_type": "code",
   "execution_count": 38,
   "id": "efbf2dc6",
   "metadata": {},
   "outputs": [],
   "source": [
    "# Define a regression model\n",
    "gradient = GradientBoostingRegressor(\n",
    "    criterion=\"squared_error\",\n",
    "    learning_rate=0.031,\n",
    "    max_depth=2,\n",
    "    random_state=42,\n",
    ")"
   ]
  },
  {
   "cell_type": "code",
   "execution_count": 39,
   "id": "f7f939ff",
   "metadata": {},
   "outputs": [],
   "source": [
    "r2_list = list()\n",
    "mape_list = list()\n",
    "\n",
    "for muni_id in range(0, 10):\n",
    "    \n",
    "    # Train and test split as last two weeks of each municipality are for testing purposes\n",
    "    mapping_data = bus_demand[bus_demand[\"Municipality\"]==muni_id].drop(columns=[\"Municipality\"])\n",
    "    test_mapping = (mapping_data[\"Month\"]==8) & (mapping_data[\"Day\"]>=4)\n",
    "    \n",
    "    training_set = mapping_data[~test_mapping]\n",
    "    y_train = training_set[\"Average Usage\"]\n",
    "    X_train = training_set.drop(columns=[\"Average Usage\"])\n",
    "    \n",
    "    test_set = mapping_data[test_mapping]\n",
    "    y_test = test_set[\"Average Usage\"]\n",
    "    X_test = test_set.drop(columns=[\"Average Usage\"])\n",
    "    \n",
    "    # Train the model\n",
    "    gradient.fit(X_train, y_train)\n",
    "    # Make predictions\n",
    "    preds = gradient.predict(X_test)\n",
    "    \n",
    "    r2 = r2_score(y_test, preds)\n",
    "    r2_list.append(r2)\n",
    "    mape = mean_absolute_percentage_error(y_test, preds)\n",
    "    mape_list.append(mape)\n",
    "    \n",
    "# Calculate the mean score using metrics from each municipality\n",
    "mean_r2 = np.mean(r2_list).round(4)\n",
    "mean_mape = np.mean(mape_list).round(4)\n",
    "\n",
    "gradient_result = {\n",
    "    \"Model\": \"Gradient Boosting Regressor\",\n",
    "    \"R2\": mean_r2,\n",
    "    \"MAPE\": mean_mape,\n",
    "}\n",
    "\n",
    "report_df = report_df.append(gradient_result, ignore_index=True, sort=True)"
   ]
  },
  {
   "cell_type": "markdown",
   "id": "3f9f5b7a",
   "metadata": {},
   "source": [
    "# 3) Results and Discussion"
   ]
  },
  {
   "cell_type": "markdown",
   "id": "b66204d7",
   "metadata": {},
   "source": [
    "Edit the order of columns and sort the the values:"
   ]
  },
  {
   "cell_type": "code",
   "execution_count": 40,
   "id": "ad2e6f1c",
   "metadata": {},
   "outputs": [
    {
     "data": {
      "text/html": [
       "<div>\n",
       "<style scoped>\n",
       "    .dataframe tbody tr th:only-of-type {\n",
       "        vertical-align: middle;\n",
       "    }\n",
       "\n",
       "    .dataframe tbody tr th {\n",
       "        vertical-align: top;\n",
       "    }\n",
       "\n",
       "    .dataframe thead th {\n",
       "        text-align: right;\n",
       "    }\n",
       "</style>\n",
       "<table border=\"1\" class=\"dataframe\">\n",
       "  <thead>\n",
       "    <tr style=\"text-align: right;\">\n",
       "      <th></th>\n",
       "      <th>Model</th>\n",
       "      <th>R2</th>\n",
       "      <th>MAPE</th>\n",
       "    </tr>\n",
       "  </thead>\n",
       "  <tbody>\n",
       "    <tr>\n",
       "      <th>1</th>\n",
       "      <td>Random Forest Regressor</td>\n",
       "      <td>0.4356</td>\n",
       "      <td>0.1922</td>\n",
       "    </tr>\n",
       "    <tr>\n",
       "      <th>2</th>\n",
       "      <td>Gradient Boosting Regressor</td>\n",
       "      <td>0.4341</td>\n",
       "      <td>0.2047</td>\n",
       "    </tr>\n",
       "    <tr>\n",
       "      <th>0</th>\n",
       "      <td>Linear Regression</td>\n",
       "      <td>0.2864</td>\n",
       "      <td>0.2659</td>\n",
       "    </tr>\n",
       "  </tbody>\n",
       "</table>\n",
       "</div>"
      ],
      "text/plain": [
       "                         Model      R2    MAPE\n",
       "1      Random Forest Regressor  0.4356  0.1922\n",
       "2  Gradient Boosting Regressor  0.4341  0.2047\n",
       "0            Linear Regression  0.2864  0.2659"
      ]
     },
     "execution_count": 40,
     "metadata": {},
     "output_type": "execute_result"
    }
   ],
   "source": [
    "report_df = report_df[[\"Model\", \"R2\", \"MAPE\"]]\n",
    "report_df = report_df.sort_values(by=[\"R2\"], ascending=False)\n",
    "report_df"
   ]
  },
  {
   "cell_type": "markdown",
   "id": "855b5e17",
   "metadata": {},
   "source": [
    "Save the results to a CSV file:"
   ]
  },
  {
   "cell_type": "code",
   "execution_count": 41,
   "id": "0a434c5d",
   "metadata": {},
   "outputs": [],
   "source": [
    "report_df.to_csv(\"regression_results.csv\")"
   ]
  },
  {
   "cell_type": "markdown",
   "id": "fcb99a0d",
   "metadata": {},
   "source": [
    "We can see that the **random forest regressor** outperformed the others in predicting the average bus demand of the given municipalities in terms of accuracy (relatively low error) and generalization power (relatively high R2). Let us now visualize the estimation process of this regressor by plotting the target and predicted values."
   ]
  },
  {
   "cell_type": "code",
   "execution_count": 42,
   "id": "4d92aded",
   "metadata": {},
   "outputs": [],
   "source": [
    "mapping_data = bus_demand[bus_demand[\"Municipality\"]==5].reset_index()\n",
    "date_list = list()\n",
    "\n",
    "for i in range(mapping_data.shape[0]):\n",
    "    \n",
    "    m, d, h = mapping_data.loc[i, \"Month\"], mapping_data.loc[i, \"Day\"], mapping_data.loc[i, \"Hour\"]\n",
    "    date_list.append(f\"{m}/{d}/{h}\")"
   ]
  },
  {
   "cell_type": "code",
   "execution_count": 43,
   "id": "2905cb92",
   "metadata": {},
   "outputs": [
    {
     "name": "stderr",
     "output_type": "stream",
     "text": [
      "C:\\Users\\User\\anaconda3\\envs\\pytorch_p37\\lib\\site-packages\\ipykernel_launcher.py:68: UserWarning: FixedFormatter should only be used together with FixedLocator\n"
     ]
    },
    {
     "data": {
      "image/png": "[encoded data removed]",
      "text/plain": [
       "<Figure size 1152x648 with 1 Axes>"
      ]
     },
     "metadata": {
      "needs_background": "light"
     },
     "output_type": "display_data"
    }
   ],
   "source": [
    "# Define a regression model\n",
    "final_model = RandomForestRegressor(\n",
    "    max_depth=4,\n",
    "    random_state=42,\n",
    ")\n",
    "\n",
    "# Select a random municipality\n",
    "random_muni = 5\n",
    "    \n",
    "# Train and test split as last two weeks of each municipality are for testing purposes\n",
    "mapping_data = bus_demand[bus_demand[\"Municipality\"]==random_muni].drop(columns=[\"Municipality\"]).reset_index()\n",
    "date_list = list()\n",
    "\n",
    "for i in range(mapping_data.shape[0]):\n",
    "    \n",
    "    m, d, h = mapping_data.loc[i, \"Month\"], mapping_data.loc[i, \"Day\"], mapping_data.loc[i, \"Hour\"]\n",
    "    date_list.append(f\"{m}/{d}/{h}\")\n",
    "\n",
    "# Apply mapping to split the data into training and test sets\n",
    "test_mapping = (mapping_data[\"Month\"]==8) & (mapping_data[\"Day\"]>=4)\n",
    "\n",
    "training_set = mapping_data[~test_mapping]\n",
    "y_train = training_set[\"Average Usage\"]\n",
    "X_train = training_set.drop(columns=[\"Average Usage\"])\n",
    "\n",
    "test_set = mapping_data[test_mapping]\n",
    "y_test = test_set[\"Average Usage\"]\n",
    "X_test = test_set.drop(columns=[\"Average Usage\"])\n",
    "\n",
    "# Train the model\n",
    "final_model.fit(X_train, y_train)\n",
    "# Make predictions\n",
    "preds = final_model.predict(X_test)\n",
    "# Evaluate the regression results\n",
    "r2 = r2_score(y_test, preds)\n",
    "mape = mean_absolute_percentage_error(y_test, preds)\n",
    "\n",
    "# Visualize the estimation process\n",
    "fig, ax = plt.subplots(1, 1, figsize=(16, 9))\n",
    "ax.plot(\n",
    "    X_train.index, \n",
    "    y_train, \n",
    "    label=\"training\",\n",
    "    color=\"salmon\",\n",
    "    lw=2,\n",
    "    linestyle=\"solid\",\n",
    ")\n",
    "ax.plot(\n",
    "    X_test.index, \n",
    "    y_test, \n",
    "    label=\"target_test\",\n",
    "    lw=2,\n",
    "    color=\"black\",\n",
    "    alpha=0.3,\n",
    "    linestyle='solid',\n",
    ")\n",
    "ax.plot(\n",
    "    X_test.index, \n",
    "    final_model.predict(X_test), \n",
    "    label=f\"predictions_test\\nMAPE={mape:.4f}\\nR2={r2:.4f}\",\n",
    "    color=\"violet\",\n",
    "    alpha=0.95,\n",
    "    lw=2,\n",
    "    linestyle='dashed',\n",
    ")\n",
    "ax.set_xlabel(\"Date (month/day/hour)\")\n",
    "ax.set_ylabel(\"Average Bus Demand (people)\")\n",
    "ax.set_xticklabels(date_list[::75], rotation=\"vertical\", fontsize=12)\n",
    "ax.legend()\n",
    "plt.show()"
   ]
  },
  {
   "cell_type": "markdown",
   "id": "a8d75cea",
   "metadata": {},
   "source": [
    "**Final Notes:** We see that the non-parametric forest regressor did not achieve great accuracy (36% error) nor properly represented the variance in the target (only %60 of the variance was represented). Even though the forest model performed better than the others thanks to its learning capacity over non-linear patterns of the features, the features in the dataset did not provide this model or the others with a great deal of information. Therefore, feature extraction is necessary to increase the accuracy and generalization power of the regressors trained over the bus demand dataset. Deriving or creating new features might help to understand the hidden non-linear relationship between the features and the target."
   ]
  },
  {
   "cell_type": "markdown",
   "id": "00a9f996",
   "metadata": {},
   "source": [
    "# END"
   ]
  }
 ],
 "metadata": {
  "kernelspec": {
   "display_name": "Python 3 (ipykernel)",
   "language": "python",
   "name": "python3"
  },
  "language_info": {
   "codemirror_mode": {
    "name": "ipython",
    "version": 3
   },
   "file_extension": ".py",
   "mimetype": "text/x-python",
   "name": "python",
   "nbconvert_exporter": "python",
   "pygments_lexer": "ipython3",
   "version": "3.7.13"
  }
 },
 "nbformat": 4,
 "nbformat_minor": 5
}
